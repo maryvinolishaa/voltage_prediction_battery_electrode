{
 "cells": [
  {
   "cell_type": "markdown",
   "id": "727109b9-deac-4581-bc85-6fec9d365cda",
   "metadata": {},
   "source": [
    "# Imports"
   ]
  },
  {
   "cell_type": "code",
   "execution_count": 32,
   "id": "7bc565f4-fad2-4bb2-b28d-d0333a6e0fb3",
   "metadata": {},
   "outputs": [],
   "source": [
    "from sklearn.preprocessing import RobustScaler, OneHotEncoder, StandardScaler, MinMaxScaler\n",
    "from sklearn.compose import ColumnTransformer\n",
    "from sklearn.model_selection import train_test_split, KFold\n",
    "import pandas as pd\n",
    "import numpy as np\n",
    "import re\n",
    "import optuna\n",
    "import torch\n",
    "import torch.nn as nn\n",
    "import torch.optim as optim\n",
    "from torch.utils.data import DataLoader, TensorDataset\n",
    "import itertools\n",
    "import matplotlib.pyplot as plt\n",
    "from torch.nn import MSELoss\n",
    "import shap"
   ]
  },
  {
   "cell_type": "markdown",
   "id": "94864466-7e4c-4883-9aa4-90a958b18a9c",
   "metadata": {},
   "source": [
    "# Data Preprocessing"
   ]
  },
  {
   "cell_type": "code",
   "execution_count": 33,
   "id": "b7fdb1a7-627d-497b-b23c-4fa8bd7c03be",
   "metadata": {},
   "outputs": [],
   "source": [
    "# Load the dataset\n",
    "dataset = pd.read_csv('battery_feature_extracted.csv')"
   ]
  },
  {
   "cell_type": "code",
   "execution_count": 34,
   "id": "cd75b03a-bd3b-4dbd-a879-33ac69ad8d62",
   "metadata": {},
   "outputs": [],
   "source": [
    "X = dataset.drop(columns=['average_voltage'])\n",
    "y = dataset['average_voltage']"
   ]
  },
  {
   "cell_type": "code",
   "execution_count": 35,
   "id": "128b1f85-355b-4acf-b338-3c83ab609c97",
   "metadata": {},
   "outputs": [],
   "source": [
    "# Train/val/test split\n",
    "X_train, X_test, y_train, y_test = train_test_split(X, y, test_size=0.1, random_state=42)\n",
    "X_train, X_val, y_train, y_val = train_test_split(X_train, y_train, test_size=0.2, random_state=42)\n"
   ]
  },
  {
   "cell_type": "code",
   "execution_count": 36,
   "id": "53634e79-6f63-4277-a3d0-5d8bb5e32af8",
   "metadata": {},
   "outputs": [],
   "source": [
    "# Scale features\n",
    "scaler = RobustScaler()\n",
    "X_train_scaled = scaler.fit_transform(X_train)\n",
    "X_val_scaled = scaler.transform(X_val)\n",
    "X_test_scaled = scaler.transform(X_test)\n"
   ]
  },
  {
   "cell_type": "code",
   "execution_count": 37,
   "id": "d179ffb6-105e-4d52-ab7d-829991167e1d",
   "metadata": {},
   "outputs": [],
   "source": [
    "# Convert to tensors\n",
    "X_train_tensor = torch.FloatTensor(X_train_scaled)\n",
    "y_train_tensor = torch.FloatTensor(y_train.values).unsqueeze(1)\n",
    "X_val_tensor = torch.FloatTensor(X_val_scaled)\n",
    "y_val_tensor = torch.FloatTensor(y_val.values).unsqueeze(1)\n",
    "X_test_tensor = torch.FloatTensor(X_test_scaled)\n",
    "y_test_tensor = torch.FloatTensor(y_test.values).unsqueeze(1)\n"
   ]
  },
  {
   "cell_type": "markdown",
   "id": "2ab83956-a9d4-434c-90d4-1330a7d92e73",
   "metadata": {},
   "source": [
    "# Data imbalance"
   ]
  },
  {
   "cell_type": "code",
   "execution_count": 38,
   "id": "f797f2bc-f8da-4037-8568-5f4160b3d578",
   "metadata": {},
   "outputs": [],
   "source": [
    "# Get ion columns and compute sample weights\n",
    "ion_columns = [col for col in X_train.columns if col.startswith(\"working_ion_\")]\n",
    "ion_counts = X_train[ion_columns].sum()\n",
    "ion_weights = 1.0 / ion_counts\n",
    "ion_weights /= ion_weights.sum()\n",
    "train_weights = X_train[ion_columns].dot(ion_weights.astype(np.float32))\n",
    "train_weights_tensor = torch.tensor(train_weights.values.astype(np.float32)).unsqueeze(1)\n",
    "\n"
   ]
  },
  {
   "cell_type": "code",
   "execution_count": 39,
   "id": "401440cb-d0b3-4760-935f-4057d3912774",
   "metadata": {},
   "outputs": [],
   "source": [
    "# Define LSTM subnetwork\n",
    "class LSTMNetwork(nn.Module):\n",
    "    def __init__(self, input_size, hidden_size, output_size, num_layers=1, dropout=0.5):\n",
    "        super(LSTMNetwork, self).__init__()\n",
    "        self.lstm = nn.LSTM(input_size, hidden_size, num_layers=num_layers, batch_first=True, dropout=dropout)\n",
    "        self.fc = nn.Linear(hidden_size, output_size)\n",
    "\n",
    "    def forward(self, x):\n",
    "        _, (h_n, _) = self.lstm(x)\n",
    "        h_n = h_n[-1]\n",
    "        x = self.fc(h_n)\n",
    "        return x\n"
   ]
  },
  {
   "cell_type": "code",
   "execution_count": 40,
   "id": "a90167fa-b6e4-4d76-b080-46735d103583",
   "metadata": {},
   "outputs": [],
   "source": [
    "# Define TabTransformer with LSTM\n",
    "class TabTransformerWithLSTM(nn.Module):\n",
    "    def __init__(self, num_features, output_size=1, dim_embedding=128, num_heads=2, num_layers=2, lstm_hidden_size=128, lstm_num_layers=1, lstm_dropout=0.5):\n",
    "        super(TabTransformerWithLSTM, self).__init__()\n",
    "        self.embedding = nn.Linear(num_features, dim_embedding)\n",
    "        encoder_layer = nn.TransformerEncoderLayer(d_model=dim_embedding, nhead=num_heads, batch_first=True, dropout=0.7)\n",
    "        self.transformer = nn.TransformerEncoder(encoder_layer, num_layers=num_layers)\n",
    "        self.lstm_network = LSTMNetwork(dim_embedding, lstm_hidden_size, output_size, num_layers=lstm_num_layers, dropout=lstm_dropout)\n",
    "\n",
    "    def forward(self, x):\n",
    "        x = self.embedding(x)\n",
    "        x = x.unsqueeze(1)\n",
    "        x = self.transformer(x)\n",
    "        return self.lstm_network(x)\n"
   ]
  },
  {
   "cell_type": "code",
   "execution_count": 41,
   "id": "20801725-88d0-45d5-bfc4-19ac6bc940a5",
   "metadata": {},
   "outputs": [],
   "source": [
    "# Define weighted loss function\n",
    "class WeightedCompositeLoss(nn.Module):\n",
    "    def forward(self, outputs, targets, weights):\n",
    "        mse = (weights * (outputs - targets) ** 2).mean()\n",
    "        mae = (weights * torch.abs(outputs - targets)).mean()\n",
    "        return mse + 0.6 * mae\n"
   ]
  },
  {
   "cell_type": "code",
   "execution_count": 42,
   "id": "a79679c5-6168-4e47-a984-ad3e21d5aebc",
   "metadata": {},
   "outputs": [
    {
     "name": "stderr",
     "output_type": "stream",
     "text": [
      "C:\\Users\\Admin\\AppData\\Local\\Packages\\PythonSoftwareFoundation.Python.3.11_qbz5n2kfra8p0\\LocalCache\\local-packages\\Python311\\site-packages\\torch\\nn\\modules\\rnn.py:123: UserWarning: dropout option adds dropout after all but last recurrent layer, so non-zero dropout expects num_layers greater than 1, but got dropout=0.5 and num_layers=1\n",
      "  warnings.warn(\n"
     ]
    }
   ],
   "source": [
    "# Setup model\n",
    "device = torch.device('cuda' if torch.cuda.is_available() else 'cpu')\n",
    "model = TabTransformerWithLSTM(num_features=X_train_tensor.shape[1]).to(device)\n",
    "criterion = WeightedCompositeLoss()\n",
    "optimizer = optim.Adam(model.parameters(), lr=0.00075)\n"
   ]
  },
  {
   "cell_type": "code",
   "execution_count": 43,
   "id": "0251ddda-0301-4d1a-b417-ab067cdc293e",
   "metadata": {},
   "outputs": [],
   "source": [
    "# Move tensors to device\n",
    "X_train_tensor = X_train_tensor.to(device)\n",
    "y_train_tensor = y_train_tensor.to(device)\n",
    "train_weights_tensor = train_weights_tensor.to(device)\n",
    "X_val_tensor = X_val_tensor.to(device)\n",
    "y_val_tensor = y_val_tensor.to(device)\n",
    "X_test_tensor = X_test_tensor.to(device)\n",
    "y_test_tensor = y_test_tensor.to(device)\n"
   ]
  },
  {
   "cell_type": "code",
   "execution_count": 44,
   "id": "14aa7dd7-ade0-4cd6-a1fd-b328bf6a169e",
   "metadata": {},
   "outputs": [
    {
     "name": "stdout",
     "output_type": "stream",
     "text": [
      "Epoch 0, Training Loss: 0.2833, Validation Loss: 11.4060\n",
      "Epoch 100, Training Loss: 0.0289, Validation Loss: 2.2055\n",
      "Epoch 200, Training Loss: 0.0162, Validation Loss: 1.7196\n",
      "Epoch 300, Training Loss: 0.0130, Validation Loss: 1.2870\n",
      "Epoch 400, Training Loss: 0.0115, Validation Loss: 1.0005\n",
      "Epoch 500, Training Loss: 0.0100, Validation Loss: 0.8780\n",
      "Epoch 600, Training Loss: 0.0087, Validation Loss: 0.7998\n",
      "Epoch 700, Training Loss: 0.0083, Validation Loss: 0.7490\n",
      "Epoch 800, Training Loss: 0.0074, Validation Loss: 0.7070\n",
      "Epoch 900, Training Loss: 0.0071, Validation Loss: 0.6720\n",
      "Epoch 1000, Training Loss: 0.0065, Validation Loss: 0.6237\n",
      "Epoch 1100, Training Loss: 0.0059, Validation Loss: 0.6012\n",
      "Epoch 1200, Training Loss: 0.0056, Validation Loss: 0.5872\n",
      "Epoch 1300, Training Loss: 0.0053, Validation Loss: 0.5566\n",
      "Epoch 1400, Training Loss: 0.0051, Validation Loss: 0.5686\n",
      "Epoch 1500, Training Loss: 0.0047, Validation Loss: 0.5276\n",
      "Epoch 1600, Training Loss: 0.0044, Validation Loss: 0.5147\n",
      "Epoch 1700, Training Loss: 0.0041, Validation Loss: 0.5125\n",
      "Epoch 1800, Training Loss: 0.0040, Validation Loss: 0.4984\n",
      "Epoch 1900, Training Loss: 0.0038, Validation Loss: 0.4976\n"
     ]
    }
   ],
   "source": [
    "# Training loop\n",
    "training_losses, validation_losses = [], []\n",
    "for epoch in range(2000):\n",
    "    model.train()\n",
    "    optimizer.zero_grad()\n",
    "    output = model(X_train_tensor)\n",
    "    train_loss = criterion(output, y_train_tensor, train_weights_tensor)\n",
    "    train_loss.backward()\n",
    "    optimizer.step()\n",
    "\n",
    "    model.eval()\n",
    "    with torch.no_grad():\n",
    "        val_output = model(X_val_tensor)\n",
    "        val_loss = criterion(val_output, y_val_tensor, torch.ones_like(y_val_tensor))\n",
    "\n",
    "    training_losses.append(train_loss.item())\n",
    "    validation_losses.append(val_loss.item())\n",
    "\n",
    "    if epoch % 100 == 0:\n",
    "        print(f'Epoch {epoch}, Training Loss: {train_loss.item():.4f}, Validation Loss: {val_loss.item():.4f}')\n"
   ]
  },
  {
   "cell_type": "code",
   "execution_count": 45,
   "id": "f35331b4-e69c-44c5-9d71-5725258c014b",
   "metadata": {},
   "outputs": [
    {
     "name": "stdout",
     "output_type": "stream",
     "text": [
      "\n",
      "Test MSE: 0.2763\n",
      "Test MAE: 0.2859\n",
      "Test R²: 0.8946\n"
     ]
    }
   ],
   "source": [
    "# Test evaluation\n",
    "model.eval()\n",
    "with torch.no_grad():\n",
    "    predictions = model(X_test_tensor)\n",
    "    test_mse = nn.MSELoss()(predictions, y_test_tensor).item()\n",
    "    test_mae = nn.L1Loss()(predictions, y_test_tensor).item()\n",
    "    ss_total = torch.sum((y_test_tensor - torch.mean(y_test_tensor))**2)\n",
    "    ss_residual = torch.sum((y_test_tensor - predictions)**2)\n",
    "    r2_score_value = 1 - (ss_residual / ss_total)\n",
    "\n",
    "print(f\"\\nTest MSE: {test_mse:.4f}\")\n",
    "print(f\"Test MAE: {test_mae:.4f}\")\n",
    "print(f\"Test R²: {r2_score_value.item():.4f}\")\n"
   ]
  },
  {
   "cell_type": "code",
   "execution_count": 46,
   "id": "85e36bc8-d6d5-4854-82f8-2c56034cd220",
   "metadata": {},
   "outputs": [],
   "source": [
    "from sklearn.metrics import mean_absolute_error, mean_squared_error, r2_score\n",
    "# Per-ion metrics\n",
    "X_test_df = X_test.reset_index(drop=True).copy()\n",
    "X_test_df['true'] = y_test.values\n",
    "X_test_df['pred'] = predictions.cpu().numpy().flatten()\n"
   ]
  },
  {
   "cell_type": "code",
   "execution_count": 47,
   "id": "3e8a1b54-36d0-46e2-b371-24dd68ea0469",
   "metadata": {},
   "outputs": [
    {
     "name": "stdout",
     "output_type": "stream",
     "text": [
      "\n",
      "Per-ion metrics on test set:\n",
      "Al: MAE = 0.3112, MSE = 0.1824, R² = 0.8414\n",
      "Ca: MAE = 0.2066, MSE = 0.0915, R² = 0.9260\n",
      "Cs: MAE = 0.3892, MSE = 0.2015, R² = 0.4682\n",
      "K: MAE = 0.1847, MSE = 0.0569, R² = 0.9830\n",
      "Li: MAE = 0.3028, MSE = 0.2744, R² = 0.8708\n",
      "Mg: MAE = 0.4393, MSE = 0.8801, R² = 0.7503\n",
      "Na: MAE = 0.1861, MSE = 0.0666, R² = 0.9667\n",
      "Rb: MAE = 0.1434, MSE = 0.0281, R² = 0.9826\n",
      "Y: MAE = 0.1987, MSE = 0.0515, R² = 0.8903\n",
      "Zn: MAE = 0.2361, MSE = 0.1257, R² = 0.8593\n"
     ]
    }
   ],
   "source": [
    "print(\"\\nPer-ion metrics on test set:\")\n",
    "for ion in ion_columns:\n",
    "    subset = X_test_df[X_test_df[ion] == 1]\n",
    "    if not subset.empty:\n",
    "        y_true = subset['true'].values\n",
    "        y_pred = subset['pred'].values\n",
    "        mae = mean_absolute_error(y_true, y_pred)\n",
    "        mse = mean_squared_error(y_true, y_pred)\n",
    "        r2 = r2_score(y_true, y_pred)\n",
    "        print(f\"{ion.replace('working_ion_', '')}: MAE = {mae:.4f}, MSE = {mse:.4f}, R² = {r2:.4f}\")\n"
   ]
  },
  {
   "cell_type": "code",
   "execution_count": 48,
   "id": "4f0a5984-6daa-4f5d-b79f-483bd75aa85e",
   "metadata": {},
   "outputs": [
    {
     "data": {
      "image/png": "[encoded data removed]",
      "text/plain": [
       "<Figure size 1000x600 with 1 Axes>"
      ]
     },
     "metadata": {},
     "output_type": "display_data"
    }
   ],
   "source": [
    "# Plot losses\n",
    "plt.figure(figsize=(10, 6))\n",
    "plt.plot(range(2000), training_losses, label='Training Loss')\n",
    "plt.plot(range(2000), validation_losses, label='Validation Loss')\n",
    "plt.xlabel('Epochs')\n",
    "plt.ylabel('Loss')\n",
    "plt.legend()\n",
    "plt.grid(True)\n",
    "plt.show()"
   ]
  },
  {
   "cell_type": "code",
   "execution_count": null,
   "id": "4dafc102-d6da-450f-b649-a94be5e04456",
   "metadata": {},
   "outputs": [],
   "source": []
  },
  {
   "cell_type": "code",
   "execution_count": null,
   "id": "65bf5a4a-69d2-4ec3-aa8a-a794c58e16ce",
   "metadata": {},
   "outputs": [],
   "source": []
  },
  {
   "cell_type": "code",
   "execution_count": null,
   "id": "8ef5c5ed-8695-43b0-98e5-0e16ca692fe2",
   "metadata": {},
   "outputs": [],
   "source": []
  },
  {
   "cell_type": "code",
   "execution_count": null,
   "id": "afb18b82-327d-49ef-89ab-97ebc7c023c8",
   "metadata": {},
   "outputs": [],
   "source": []
  },
  {
   "cell_type": "code",
   "execution_count": null,
   "id": "f2344db9-fb32-49ef-93e5-4ab42ae0bfac",
   "metadata": {},
   "outputs": [],
   "source": []
  }
 ],
 "metadata": {
  "kernelspec": {
   "display_name": "Python 3 (ipykernel)",
   "language": "python",
   "name": "python3"
  },
  "language_info": {
   "codemirror_mode": {
    "name": "ipython",
    "version": 3
   },
   "file_extension": ".py",
   "mimetype": "text/x-python",
   "name": "python",
   "nbconvert_exporter": "python",
   "pygments_lexer": "ipython3",
   "version": "3.11.9"
  }
 },
 "nbformat": 4,
 "nbformat_minor": 5
}
