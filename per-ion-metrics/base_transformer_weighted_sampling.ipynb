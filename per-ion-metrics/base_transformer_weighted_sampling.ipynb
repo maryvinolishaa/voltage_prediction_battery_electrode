{
 "cells": [
  {
   "cell_type": "code",
   "execution_count": 1,
   "id": "6a6643ba-dedc-46cc-a78b-cbd7fb172d91",
   "metadata": {},
   "outputs": [],
   "source": [
    "from sklearn.preprocessing import RobustScaler, OneHotEncoder, StandardScaler, MinMaxScaler\n",
    "from sklearn.compose import ColumnTransformer\n",
    "from sklearn.model_selection import train_test_split, KFold\n",
    "import pandas as pd\n",
    "import numpy as np\n",
    "import re\n",
    "import optuna\n",
    "import torch\n",
    "import torch.nn as nn\n",
    "import torch.optim as optim\n",
    "from torch.utils.data import DataLoader, TensorDataset\n",
    "import itertools\n",
    "import matplotlib.pyplot as plt\n",
    "from torch.nn import MSELoss"
   ]
  },
  {
   "cell_type": "code",
   "execution_count": 2,
   "id": "635bd709-a1e0-406a-abaf-3630de54e545",
   "metadata": {},
   "outputs": [],
   "source": [
    "pd.set_option('display.max_seq_item', None)"
   ]
  },
  {
   "cell_type": "code",
   "execution_count": 3,
   "id": "3f3bff68-d5c0-46fe-9dee-e649ffbd0251",
   "metadata": {},
   "outputs": [],
   "source": [
    "pd.set_option('display.max_rows', None)\n",
    "pd.set_option('display.max_columns', None)"
   ]
  },
  {
   "cell_type": "markdown",
   "id": "9164de74-fa31-4eff-bef4-1f24f7a3b82d",
   "metadata": {},
   "source": [
    "# Data preprocessing"
   ]
  },
  {
   "cell_type": "code",
   "execution_count": 4,
   "id": "554b46fa-da96-4801-bb8a-416c58194bae",
   "metadata": {},
   "outputs": [],
   "source": [
    "# Load the dataset\n",
    "dataset = pd.read_csv('battery_feature_extracted.csv')"
   ]
  },
  {
   "cell_type": "code",
   "execution_count": 5,
   "id": "35bd48e8-f40e-472a-bf1a-780061dac381",
   "metadata": {},
   "outputs": [],
   "source": [
    "# Select features and target\n",
    "X = dataset.drop(columns=['average_voltage'])\n",
    "y = dataset['average_voltage']"
   ]
  },
  {
   "cell_type": "code",
   "execution_count": 6,
   "id": "8f7025d1-49cc-44ba-aee2-e4a8118776fe",
   "metadata": {},
   "outputs": [],
   "source": [
    "# First split to separate out the test set\n",
    "X_train, X_test, y_train, y_test = train_test_split(X, y, test_size=0.1, random_state=42)"
   ]
  },
  {
   "cell_type": "code",
   "execution_count": 7,
   "id": "ff02150f-88f7-4ecd-97d8-0449fae9b917",
   "metadata": {},
   "outputs": [],
   "source": [
    "# Second split: separate the training set into training and validation sets\n",
    "X_train, X_val, y_train, y_val = train_test_split(X_train, y_train, test_size=0.2, random_state=42)  # 20% for validation\n"
   ]
  },
  {
   "cell_type": "code",
   "execution_count": 8,
   "id": "5af3edf3-b1cc-472a-b3a1-72a1e72de655",
   "metadata": {},
   "outputs": [],
   "source": [
    "# Standardizing the features (fit on X_train, apply to all)\n",
    "scaler = RobustScaler()\n",
    "#scaler = StandardScaler()\n",
    "#scaler = MinMaxScaler()\n",
    "X_train_scaled = scaler.fit_transform(X_train)\n",
    "X_val_scaled = scaler.transform(X_val)\n",
    "X_test_scaled = scaler.transform(X_test)"
   ]
  },
  {
   "cell_type": "code",
   "execution_count": 9,
   "id": "fd3f280c-6fee-45fe-9c99-8210e412499d",
   "metadata": {},
   "outputs": [],
   "source": [
    "# Convert to tensors\n",
    "X_train_tensor = torch.FloatTensor(X_train_scaled)\n",
    "y_train_tensor = torch.FloatTensor(y_train.values).unsqueeze(1)  # Ensure target tensor is of the right shape\n",
    "X_val_tensor = torch.FloatTensor(X_val_scaled)\n",
    "y_val_tensor = torch.FloatTensor(y_val.values).unsqueeze(1)\n",
    "X_test_tensor = torch.FloatTensor(X_test_scaled)\n",
    "y_test_tensor = torch.FloatTensor(y_test.values).unsqueeze(1)"
   ]
  },
  {
   "cell_type": "code",
   "execution_count": 10,
   "id": "87f7b5b3-f31b-4311-b4ca-81bd82760eac",
   "metadata": {},
   "outputs": [],
   "source": [
    "# Model parameters\n",
    "num_features = X_train_scaled.shape[1]\n",
    "output_size = 1  # For regression, we predict a single continuous value"
   ]
  },
  {
   "cell_type": "code",
   "execution_count": null,
   "id": "7e105e54-aa49-4590-86dd-1a81dfb3bc99",
   "metadata": {},
   "outputs": [],
   "source": []
  },
  {
   "cell_type": "markdown",
   "id": "58132aee-66b5-4084-b5d4-1fbc6adedfb2",
   "metadata": {},
   "source": [
    "# Imbalance Mitigation"
   ]
  },
  {
   "cell_type": "markdown",
   "id": "72f859ff-aa24-421a-bed5-fa08aa5a212a",
   "metadata": {},
   "source": [
    "## Calculate Ion Distribution in Train / Val / Test Sets"
   ]
  },
  {
   "cell_type": "code",
   "execution_count": 11,
   "id": "8054f605-ebbc-4c9a-a733-adfb4d2f2994",
   "metadata": {},
   "outputs": [],
   "source": [
    "# Get the ion columns\n",
    "ion_columns = [col for col in X.columns if col.startswith(\"working_ion_\")]\n"
   ]
  },
  {
   "cell_type": "code",
   "execution_count": 12,
   "id": "da7d351b-214a-4d3b-b513-e87cb7178861",
   "metadata": {},
   "outputs": [],
   "source": [
    "# Get corresponding subsets\n",
    "X_train_df = X_train.copy()\n",
    "X_val_df = X_val.copy()\n",
    "X_test_df = X_test.copy()"
   ]
  },
  {
   "cell_type": "code",
   "execution_count": 13,
   "id": "ef65dd3c-0b54-4e9b-8b4e-9b4b76a5b3d2",
   "metadata": {},
   "outputs": [],
   "source": [
    "# Count samples per ion in each split\n",
    "def count_ions(df):\n",
    "    return df[ion_columns].sum().astype(int)"
   ]
  },
  {
   "cell_type": "code",
   "execution_count": 14,
   "id": "b72ad531-5863-44b5-bce1-46ebcb7f5d15",
   "metadata": {},
   "outputs": [],
   "source": [
    "train_counts = count_ions(X_train_df)\n",
    "val_counts = count_ions(X_val_df)\n",
    "test_counts = count_ions(X_test_df)"
   ]
  },
  {
   "cell_type": "code",
   "execution_count": 15,
   "id": "823bbef4-17cb-4c60-b076-b86d471921e8",
   "metadata": {},
   "outputs": [],
   "source": [
    "# Combine into a single DataFrame\n",
    "ion_distribution = pd.DataFrame({\n",
    "    'Train': train_counts,\n",
    "    'Validation': val_counts,\n",
    "    'Test': test_counts,\n",
    "    'Total': train_counts + val_counts + test_counts\n",
    "})"
   ]
  },
  {
   "cell_type": "code",
   "execution_count": 16,
   "id": "593c13b2-70ec-4240-961b-bf0312e8de93",
   "metadata": {},
   "outputs": [
    {
     "data": {
      "text/html": [
       "<div>\n",
       "<style scoped>\n",
       "    .dataframe tbody tr th:only-of-type {\n",
       "        vertical-align: middle;\n",
       "    }\n",
       "\n",
       "    .dataframe tbody tr th {\n",
       "        vertical-align: top;\n",
       "    }\n",
       "\n",
       "    .dataframe thead th {\n",
       "        text-align: right;\n",
       "    }\n",
       "</style>\n",
       "<table border=\"1\" class=\"dataframe\">\n",
       "  <thead>\n",
       "    <tr style=\"text-align: right;\">\n",
       "      <th></th>\n",
       "      <th>Train</th>\n",
       "      <th>Validation</th>\n",
       "      <th>Test</th>\n",
       "      <th>Total</th>\n",
       "    </tr>\n",
       "  </thead>\n",
       "  <tbody>\n",
       "    <tr>\n",
       "      <th>Al</th>\n",
       "      <td>75</td>\n",
       "      <td>10</td>\n",
       "      <td>10</td>\n",
       "      <td>95</td>\n",
       "    </tr>\n",
       "    <tr>\n",
       "      <th>Ca</th>\n",
       "      <td>293</td>\n",
       "      <td>82</td>\n",
       "      <td>60</td>\n",
       "      <td>435</td>\n",
       "    </tr>\n",
       "    <tr>\n",
       "      <th>Cs</th>\n",
       "      <td>24</td>\n",
       "      <td>6</td>\n",
       "      <td>3</td>\n",
       "      <td>33</td>\n",
       "    </tr>\n",
       "    <tr>\n",
       "      <th>K</th>\n",
       "      <td>83</td>\n",
       "      <td>18</td>\n",
       "      <td>6</td>\n",
       "      <td>107</td>\n",
       "    </tr>\n",
       "    <tr>\n",
       "      <th>Li</th>\n",
       "      <td>1770</td>\n",
       "      <td>441</td>\n",
       "      <td>229</td>\n",
       "      <td>2440</td>\n",
       "    </tr>\n",
       "    <tr>\n",
       "      <th>Mg</th>\n",
       "      <td>297</td>\n",
       "      <td>78</td>\n",
       "      <td>48</td>\n",
       "      <td>423</td>\n",
       "    </tr>\n",
       "    <tr>\n",
       "      <th>Na</th>\n",
       "      <td>223</td>\n",
       "      <td>55</td>\n",
       "      <td>31</td>\n",
       "      <td>309</td>\n",
       "    </tr>\n",
       "    <tr>\n",
       "      <th>Rb</th>\n",
       "      <td>37</td>\n",
       "      <td>5</td>\n",
       "      <td>8</td>\n",
       "      <td>50</td>\n",
       "    </tr>\n",
       "    <tr>\n",
       "      <th>Y</th>\n",
       "      <td>70</td>\n",
       "      <td>19</td>\n",
       "      <td>4</td>\n",
       "      <td>93</td>\n",
       "    </tr>\n",
       "    <tr>\n",
       "      <th>Zn</th>\n",
       "      <td>260</td>\n",
       "      <td>69</td>\n",
       "      <td>37</td>\n",
       "      <td>366</td>\n",
       "    </tr>\n",
       "  </tbody>\n",
       "</table>\n",
       "</div>"
      ],
      "text/plain": [
       "    Train  Validation  Test  Total\n",
       "Al     75          10    10     95\n",
       "Ca    293          82    60    435\n",
       "Cs     24           6     3     33\n",
       "K      83          18     6    107\n",
       "Li   1770         441   229   2440\n",
       "Mg    297          78    48    423\n",
       "Na    223          55    31    309\n",
       "Rb     37           5     8     50\n",
       "Y      70          19     4     93\n",
       "Zn    260          69    37    366"
      ]
     },
     "metadata": {},
     "output_type": "display_data"
    }
   ],
   "source": [
    "ion_distribution.index = ion_distribution.index.str.replace('working_ion_', '')\n",
    "display(ion_distribution)"
   ]
  },
  {
   "cell_type": "markdown",
   "id": "fbddcc95-7874-4725-a6ab-e43e987f8fc3",
   "metadata": {},
   "source": [
    "## Sample weighting in loss function"
   ]
  },
  {
   "cell_type": "code",
   "execution_count": 18,
   "id": "b7aef52b-2a6e-49fa-bae5-6375226b677a",
   "metadata": {},
   "outputs": [],
   "source": [
    "# Compute per-sample weights based on inverse ion frequency\n",
    "ion_columns = [col for col in X_train.columns if col.startswith(\"working_ion_\")]\n",
    "ion_counts = X_train[ion_columns].sum()\n",
    "ion_weights = 1.0 / ion_counts\n",
    "ion_weights /= ion_weights.sum()\n",
    "\n",
    "# Assign sample weights (dot product of one-hot ion indicators and weight vector)\n",
    "train_weights = X_train[ion_columns].dot(ion_weights.astype(np.float32))\n",
    "\n",
    "# Ensure correct tensor type\n",
    "train_weights_tensor = torch.tensor(train_weights.values.astype(np.float32)).unsqueeze(1)\n"
   ]
  },
  {
   "cell_type": "code",
   "execution_count": 19,
   "id": "24ee3c3e-6e2a-418d-be00-fba5158eaf5b",
   "metadata": {},
   "outputs": [],
   "source": [
    "# TabTransformer model\n",
    "class TabTransformer(nn.Module):\n",
    "    def __init__(self, num_features, output_size=1, dim_embedding=128, num_heads=2, num_layers=2, dropout=0.2):\n",
    "        super(TabTransformer, self).__init__()\n",
    "        self.embedding = nn.Linear(num_features, dim_embedding)\n",
    "        encoder_layer = nn.TransformerEncoderLayer(d_model=dim_embedding, nhead=num_heads, batch_first=True, dropout=dropout)\n",
    "        self.transformer = nn.TransformerEncoder(encoder_layer, num_layers=num_layers)\n",
    "        self.regressor = nn.Linear(dim_embedding, output_size)\n",
    "\n",
    "    def forward(self, x):\n",
    "        x = self.embedding(x)\n",
    "        x = x.unsqueeze(1)  # [batch_size, seq_len=1, dim]\n",
    "        x = self.transformer(x)\n",
    "        x = torch.mean(x, dim=1)\n",
    "        return self.regressor(x)"
   ]
  },
  {
   "cell_type": "code",
   "execution_count": 20,
   "id": "ffd710c9-e424-44b1-9857-9a2168895c0b",
   "metadata": {},
   "outputs": [],
   "source": [
    "# Weighted loss\n",
    "class WeightedCompositeLoss(nn.Module):\n",
    "    def forward(self, outputs, targets, weights):\n",
    "        mse = (weights * (outputs - targets) ** 2).mean()\n",
    "        mae = (weights * torch.abs(outputs - targets)).mean()\n",
    "        return mse + 0.6 * mae\n"
   ]
  },
  {
   "cell_type": "code",
   "execution_count": 21,
   "id": "f4a6ea68-3bb4-49a9-9487-6210304a70df",
   "metadata": {},
   "outputs": [],
   "source": [
    "# Setup\n",
    "device = torch.device('cuda' if torch.cuda.is_available() else 'cpu')\n",
    "model = TabTransformer(num_features=X_train_tensor.shape[1]).to(device)\n",
    "criterion = WeightedCompositeLoss()\n",
    "optimizer = optim.Adam(model.parameters(), lr=0.00075)"
   ]
  },
  {
   "cell_type": "code",
   "execution_count": 22,
   "id": "0e165bbd-56cf-4360-93e3-42eae61b2c86",
   "metadata": {},
   "outputs": [],
   "source": [
    "# Move data to device\n",
    "X_train_tensor = X_train_tensor.to(device)\n",
    "y_train_tensor = y_train_tensor.to(device)\n",
    "train_weights_tensor = train_weights_tensor.to(device)\n",
    "X_val_tensor = X_val_tensor.to(device)\n",
    "y_val_tensor = y_val_tensor.to(device)\n",
    "X_test_tensor = X_test_tensor.to(device)\n",
    "y_test_tensor = y_test_tensor.to(device)"
   ]
  },
  {
   "cell_type": "code",
   "execution_count": 23,
   "id": "d9696e61-26b0-421f-af99-b66e78c3f89b",
   "metadata": {},
   "outputs": [
    {
     "name": "stdout",
     "output_type": "stream",
     "text": [
      "Epoch 0: Train Loss = 0.3504, Val Loss = 3.5675\n",
      "Epoch 10: Train Loss = 0.0867, Val Loss = 2.7971\n",
      "Epoch 20: Train Loss = 0.0724, Val Loss = 2.6857\n",
      "Epoch 30: Train Loss = 0.0529, Val Loss = 2.2620\n",
      "Epoch 40: Train Loss = 0.0435, Val Loss = 1.9915\n",
      "Epoch 50: Train Loss = 0.0376, Val Loss = 1.9239\n",
      "Epoch 60: Train Loss = 0.0325, Val Loss = 1.8252\n",
      "Epoch 70: Train Loss = 0.0271, Val Loss = 1.7525\n",
      "Epoch 80: Train Loss = 0.0238, Val Loss = 1.7568\n",
      "Epoch 90: Train Loss = 0.0212, Val Loss = 1.6669\n",
      "Epoch 100: Train Loss = 0.0194, Val Loss = 1.5450\n",
      "Epoch 110: Train Loss = 0.0183, Val Loss = 1.5390\n",
      "Epoch 120: Train Loss = 0.0167, Val Loss = 1.4259\n",
      "Epoch 130: Train Loss = 0.0159, Val Loss = 1.3354\n",
      "Epoch 140: Train Loss = 0.0152, Val Loss = 1.2947\n",
      "Epoch 150: Train Loss = 0.0137, Val Loss = 1.2986\n",
      "Epoch 160: Train Loss = 0.0152, Val Loss = 1.2222\n",
      "Epoch 170: Train Loss = 0.0127, Val Loss = 1.2056\n",
      "Epoch 180: Train Loss = 0.0130, Val Loss = 1.1576\n",
      "Epoch 190: Train Loss = 0.0121, Val Loss = 1.1363\n",
      "Epoch 200: Train Loss = 0.0132, Val Loss = 1.0888\n",
      "Epoch 210: Train Loss = 0.0121, Val Loss = 1.0603\n",
      "Epoch 220: Train Loss = 0.0119, Val Loss = 1.0645\n",
      "Epoch 230: Train Loss = 0.0114, Val Loss = 1.1193\n",
      "Epoch 240: Train Loss = 0.0113, Val Loss = 1.0055\n",
      "Epoch 250: Train Loss = 0.0109, Val Loss = 1.0265\n",
      "Epoch 260: Train Loss = 0.0107, Val Loss = 1.0066\n",
      "Epoch 270: Train Loss = 0.0108, Val Loss = 0.9974\n",
      "Epoch 280: Train Loss = 0.0107, Val Loss = 0.9539\n",
      "Epoch 290: Train Loss = 0.0108, Val Loss = 0.9586\n",
      "Epoch 300: Train Loss = 0.0112, Val Loss = 1.0827\n",
      "Epoch 310: Train Loss = 0.0108, Val Loss = 0.9846\n",
      "Epoch 320: Train Loss = 0.0099, Val Loss = 0.9739\n",
      "Epoch 330: Train Loss = 0.0100, Val Loss = 0.9600\n",
      "Epoch 340: Train Loss = 0.0098, Val Loss = 0.9071\n",
      "Epoch 350: Train Loss = 0.0098, Val Loss = 0.9210\n",
      "Epoch 360: Train Loss = 0.0093, Val Loss = 0.8995\n",
      "Epoch 370: Train Loss = 0.0093, Val Loss = 0.8965\n",
      "Epoch 380: Train Loss = 0.0100, Val Loss = 0.9063\n",
      "Epoch 390: Train Loss = 0.0091, Val Loss = 0.8798\n",
      "Epoch 400: Train Loss = 0.0092, Val Loss = 0.8770\n",
      "Epoch 410: Train Loss = 0.0095, Val Loss = 0.8725\n",
      "Epoch 420: Train Loss = 0.0100, Val Loss = 0.9356\n",
      "Epoch 430: Train Loss = 0.0096, Val Loss = 0.8551\n",
      "Epoch 440: Train Loss = 0.0092, Val Loss = 0.9064\n",
      "Epoch 450: Train Loss = 0.0089, Val Loss = 0.8645\n",
      "Epoch 460: Train Loss = 0.0088, Val Loss = 0.8470\n",
      "Epoch 470: Train Loss = 0.0089, Val Loss = 0.8367\n",
      "Epoch 480: Train Loss = 0.0087, Val Loss = 0.8517\n",
      "Epoch 490: Train Loss = 0.0093, Val Loss = 0.8759\n",
      "Epoch 500: Train Loss = 0.0095, Val Loss = 0.8435\n",
      "Epoch 510: Train Loss = 0.0087, Val Loss = 0.8183\n",
      "Epoch 520: Train Loss = 0.0085, Val Loss = 0.8361\n",
      "Epoch 530: Train Loss = 0.0090, Val Loss = 0.8678\n",
      "Epoch 540: Train Loss = 0.0082, Val Loss = 0.8014\n",
      "Epoch 550: Train Loss = 0.0084, Val Loss = 0.8034\n",
      "Epoch 560: Train Loss = 0.0088, Val Loss = 0.7965\n",
      "Epoch 570: Train Loss = 0.0081, Val Loss = 0.7884\n",
      "Epoch 580: Train Loss = 0.0083, Val Loss = 0.8006\n",
      "Epoch 590: Train Loss = 0.0090, Val Loss = 0.7928\n",
      "Epoch 600: Train Loss = 0.0083, Val Loss = 0.7922\n",
      "Epoch 610: Train Loss = 0.0083, Val Loss = 0.7839\n",
      "Epoch 620: Train Loss = 0.0080, Val Loss = 0.7764\n",
      "Epoch 630: Train Loss = 0.0084, Val Loss = 0.7679\n",
      "Epoch 640: Train Loss = 0.0077, Val Loss = 0.7815\n",
      "Epoch 650: Train Loss = 0.0080, Val Loss = 0.7819\n",
      "Epoch 660: Train Loss = 0.0079, Val Loss = 0.7796\n",
      "Epoch 670: Train Loss = 0.0077, Val Loss = 0.7576\n",
      "Epoch 680: Train Loss = 0.0077, Val Loss = 0.7704\n",
      "Epoch 690: Train Loss = 0.0077, Val Loss = 0.7829\n",
      "Epoch 700: Train Loss = 0.0079, Val Loss = 0.7654\n",
      "Epoch 710: Train Loss = 0.0081, Val Loss = 0.7820\n",
      "Epoch 720: Train Loss = 0.0084, Val Loss = 0.7909\n",
      "Epoch 730: Train Loss = 0.0076, Val Loss = 0.7533\n",
      "Epoch 740: Train Loss = 0.0075, Val Loss = 0.7546\n",
      "Epoch 750: Train Loss = 0.0074, Val Loss = 0.7749\n",
      "Epoch 760: Train Loss = 0.0073, Val Loss = 0.7771\n",
      "Epoch 770: Train Loss = 0.0077, Val Loss = 0.7876\n",
      "Epoch 780: Train Loss = 0.0074, Val Loss = 0.7660\n",
      "Epoch 790: Train Loss = 0.0073, Val Loss = 0.7685\n",
      "Epoch 800: Train Loss = 0.0075, Val Loss = 0.7720\n",
      "Epoch 810: Train Loss = 0.0071, Val Loss = 0.7564\n",
      "Epoch 820: Train Loss = 0.0072, Val Loss = 0.7465\n",
      "Epoch 830: Train Loss = 0.0073, Val Loss = 0.7506\n",
      "Epoch 840: Train Loss = 0.0073, Val Loss = 0.7556\n",
      "Epoch 850: Train Loss = 0.0075, Val Loss = 0.8166\n",
      "Epoch 860: Train Loss = 0.0072, Val Loss = 0.7588\n",
      "Epoch 870: Train Loss = 0.0071, Val Loss = 0.7349\n",
      "Epoch 880: Train Loss = 0.0070, Val Loss = 0.7281\n",
      "Epoch 890: Train Loss = 0.0071, Val Loss = 0.7226\n",
      "Epoch 900: Train Loss = 0.0068, Val Loss = 0.7270\n",
      "Epoch 910: Train Loss = 0.0070, Val Loss = 0.7422\n",
      "Epoch 920: Train Loss = 0.0067, Val Loss = 0.7528\n",
      "Epoch 930: Train Loss = 0.0068, Val Loss = 0.7166\n",
      "Epoch 940: Train Loss = 0.0067, Val Loss = 0.7141\n",
      "Epoch 950: Train Loss = 0.0066, Val Loss = 0.7152\n",
      "Epoch 960: Train Loss = 0.0068, Val Loss = 0.7088\n",
      "Epoch 970: Train Loss = 0.0066, Val Loss = 0.7121\n",
      "Epoch 980: Train Loss = 0.0068, Val Loss = 0.7083\n",
      "Epoch 990: Train Loss = 0.0065, Val Loss = 0.7135\n",
      "Epoch 1000: Train Loss = 0.0071, Val Loss = 0.7254\n",
      "Epoch 1010: Train Loss = 0.0066, Val Loss = 0.7265\n",
      "Epoch 1020: Train Loss = 0.0068, Val Loss = 0.6993\n",
      "Epoch 1030: Train Loss = 0.0069, Val Loss = 0.7448\n",
      "Epoch 1040: Train Loss = 0.0068, Val Loss = 0.7213\n",
      "Epoch 1050: Train Loss = 0.0064, Val Loss = 0.7034\n",
      "Epoch 1060: Train Loss = 0.0064, Val Loss = 0.7196\n",
      "Epoch 1070: Train Loss = 0.0064, Val Loss = 0.7356\n",
      "Epoch 1080: Train Loss = 0.0077, Val Loss = 0.7641\n",
      "Epoch 1090: Train Loss = 0.0066, Val Loss = 0.7223\n",
      "Epoch 1100: Train Loss = 0.0063, Val Loss = 0.7146\n",
      "Epoch 1110: Train Loss = 0.0062, Val Loss = 0.7012\n",
      "Epoch 1120: Train Loss = 0.0062, Val Loss = 0.6951\n",
      "Epoch 1130: Train Loss = 0.0061, Val Loss = 0.6949\n",
      "Epoch 1140: Train Loss = 0.0066, Val Loss = 0.7174\n",
      "Epoch 1150: Train Loss = 0.0066, Val Loss = 0.7147\n",
      "Epoch 1160: Train Loss = 0.0061, Val Loss = 0.7034\n",
      "Epoch 1170: Train Loss = 0.0064, Val Loss = 0.7011\n",
      "Epoch 1180: Train Loss = 0.0061, Val Loss = 0.7050\n",
      "Epoch 1190: Train Loss = 0.0060, Val Loss = 0.7098\n",
      "Epoch 1200: Train Loss = 0.0060, Val Loss = 0.7023\n",
      "Epoch 1210: Train Loss = 0.0059, Val Loss = 0.7173\n",
      "Epoch 1220: Train Loss = 0.0061, Val Loss = 0.6911\n",
      "Epoch 1230: Train Loss = 0.0065, Val Loss = 0.6907\n",
      "Epoch 1240: Train Loss = 0.0058, Val Loss = 0.6867\n",
      "Epoch 1250: Train Loss = 0.0063, Val Loss = 0.7206\n",
      "Epoch 1260: Train Loss = 0.0060, Val Loss = 0.6931\n",
      "Epoch 1270: Train Loss = 0.0058, Val Loss = 0.6860\n",
      "Epoch 1280: Train Loss = 0.0064, Val Loss = 0.7344\n",
      "Epoch 1290: Train Loss = 0.0059, Val Loss = 0.7138\n",
      "Epoch 1300: Train Loss = 0.0057, Val Loss = 0.6943\n",
      "Epoch 1310: Train Loss = 0.0060, Val Loss = 0.6933\n",
      "Epoch 1320: Train Loss = 0.0056, Val Loss = 0.6970\n",
      "Epoch 1330: Train Loss = 0.0059, Val Loss = 0.7075\n",
      "Epoch 1340: Train Loss = 0.0060, Val Loss = 0.7164\n",
      "Epoch 1350: Train Loss = 0.0059, Val Loss = 0.7076\n",
      "Epoch 1360: Train Loss = 0.0054, Val Loss = 0.6829\n",
      "Epoch 1370: Train Loss = 0.0054, Val Loss = 0.6998\n",
      "Epoch 1380: Train Loss = 0.0055, Val Loss = 0.6812\n",
      "Epoch 1390: Train Loss = 0.0054, Val Loss = 0.6856\n",
      "Epoch 1400: Train Loss = 0.0053, Val Loss = 0.6878\n",
      "Epoch 1410: Train Loss = 0.0054, Val Loss = 0.6802\n",
      "Epoch 1420: Train Loss = 0.0059, Val Loss = 0.6967\n",
      "Epoch 1430: Train Loss = 0.0053, Val Loss = 0.7019\n",
      "Epoch 1440: Train Loss = 0.0055, Val Loss = 0.7238\n",
      "Epoch 1450: Train Loss = 0.0056, Val Loss = 0.6836\n",
      "Epoch 1460: Train Loss = 0.0053, Val Loss = 0.7014\n",
      "Epoch 1470: Train Loss = 0.0059, Val Loss = 0.7017\n",
      "Epoch 1480: Train Loss = 0.0053, Val Loss = 0.6817\n",
      "Epoch 1490: Train Loss = 0.0054, Val Loss = 0.6867\n",
      "Epoch 1500: Train Loss = 0.0053, Val Loss = 0.6977\n",
      "Epoch 1510: Train Loss = 0.0051, Val Loss = 0.6957\n",
      "Epoch 1520: Train Loss = 0.0051, Val Loss = 0.6806\n",
      "Epoch 1530: Train Loss = 0.0051, Val Loss = 0.6915\n",
      "Epoch 1540: Train Loss = 0.0051, Val Loss = 0.6823\n",
      "Epoch 1550: Train Loss = 0.0049, Val Loss = 0.6803\n",
      "Epoch 1560: Train Loss = 0.0050, Val Loss = 0.6793\n",
      "Epoch 1570: Train Loss = 0.0049, Val Loss = 0.6748\n",
      "Epoch 1580: Train Loss = 0.0048, Val Loss = 0.6690\n",
      "Epoch 1590: Train Loss = 0.0052, Val Loss = 0.6980\n",
      "Epoch 1600: Train Loss = 0.0049, Val Loss = 0.6829\n",
      "Epoch 1610: Train Loss = 0.0047, Val Loss = 0.6760\n",
      "Epoch 1620: Train Loss = 0.0049, Val Loss = 0.6797\n",
      "Epoch 1630: Train Loss = 0.0048, Val Loss = 0.6802\n",
      "Epoch 1640: Train Loss = 0.0046, Val Loss = 0.6845\n",
      "Epoch 1650: Train Loss = 0.0047, Val Loss = 0.6831\n",
      "Epoch 1660: Train Loss = 0.0052, Val Loss = 0.6710\n",
      "Epoch 1670: Train Loss = 0.0048, Val Loss = 0.6899\n",
      "Epoch 1680: Train Loss = 0.0047, Val Loss = 0.6683\n",
      "Epoch 1690: Train Loss = 0.0052, Val Loss = 0.6755\n",
      "Epoch 1700: Train Loss = 0.0044, Val Loss = 0.6662\n",
      "Epoch 1710: Train Loss = 0.0047, Val Loss = 0.6759\n",
      "Epoch 1720: Train Loss = 0.0051, Val Loss = 0.6849\n",
      "Epoch 1730: Train Loss = 0.0044, Val Loss = 0.6754\n",
      "Epoch 1740: Train Loss = 0.0044, Val Loss = 0.6807\n",
      "Epoch 1750: Train Loss = 0.0043, Val Loss = 0.6724\n",
      "Epoch 1760: Train Loss = 0.0047, Val Loss = 0.6690\n",
      "Epoch 1770: Train Loss = 0.0043, Val Loss = 0.6664\n",
      "Epoch 1780: Train Loss = 0.0044, Val Loss = 0.6745\n",
      "Epoch 1790: Train Loss = 0.0044, Val Loss = 0.6681\n",
      "Epoch 1800: Train Loss = 0.0042, Val Loss = 0.6664\n",
      "Epoch 1810: Train Loss = 0.0042, Val Loss = 0.6679\n",
      "Epoch 1820: Train Loss = 0.0043, Val Loss = 0.6795\n",
      "Epoch 1830: Train Loss = 0.0043, Val Loss = 0.6710\n",
      "Epoch 1840: Train Loss = 0.0045, Val Loss = 0.6636\n",
      "Epoch 1850: Train Loss = 0.0042, Val Loss = 0.6712\n",
      "Epoch 1860: Train Loss = 0.0041, Val Loss = 0.6765\n",
      "Epoch 1870: Train Loss = 0.0045, Val Loss = 0.6905\n",
      "Epoch 1880: Train Loss = 0.0043, Val Loss = 0.6628\n",
      "Epoch 1890: Train Loss = 0.0041, Val Loss = 0.6613\n",
      "Epoch 1900: Train Loss = 0.0046, Val Loss = 0.6787\n",
      "Epoch 1910: Train Loss = 0.0043, Val Loss = 0.6650\n",
      "Epoch 1920: Train Loss = 0.0038, Val Loss = 0.6605\n",
      "Epoch 1930: Train Loss = 0.0037, Val Loss = 0.6672\n",
      "Epoch 1940: Train Loss = 0.0039, Val Loss = 0.6685\n",
      "Epoch 1950: Train Loss = 0.0036, Val Loss = 0.6593\n",
      "Epoch 1960: Train Loss = 0.0038, Val Loss = 0.6698\n",
      "Epoch 1970: Train Loss = 0.0041, Val Loss = 0.6775\n",
      "Epoch 1980: Train Loss = 0.0041, Val Loss = 0.6898\n",
      "Epoch 1990: Train Loss = 0.0035, Val Loss = 0.6880\n"
     ]
    }
   ],
   "source": [
    "# Training loop\n",
    "training_losses, validation_losses = [], []\n",
    "for epoch in range(2000):\n",
    "    model.train()\n",
    "    optimizer.zero_grad()\n",
    "    outputs = model(X_train_tensor)\n",
    "    loss = criterion(outputs, y_train_tensor, train_weights_tensor)\n",
    "    loss.backward()\n",
    "    optimizer.step()\n",
    "\n",
    "    model.eval()\n",
    "    with torch.no_grad():\n",
    "        val_outputs = model(X_val_tensor)\n",
    "        val_loss = criterion(val_outputs, y_val_tensor, torch.ones_like(y_val_tensor))\n",
    "\n",
    "    training_losses.append(loss.item())\n",
    "    validation_losses.append(val_loss.item())\n",
    "\n",
    "    if epoch % 10 == 0:\n",
    "        print(f\"Epoch {epoch}: Train Loss = {loss.item():.4f}, Val Loss = {val_loss.item():.4f}\")\n"
   ]
  },
  {
   "cell_type": "code",
   "execution_count": 24,
   "id": "6cc32389-925a-4868-bc35-d2fb970fdbf5",
   "metadata": {},
   "outputs": [],
   "source": [
    "# Evaluation\n",
    "model.eval()\n",
    "with torch.no_grad():\n",
    "    preds = model(X_test_tensor)\n",
    "    mse = nn.MSELoss()(preds, y_test_tensor).item()\n",
    "    mae = nn.L1Loss()(preds, y_test_tensor).item()\n",
    "    r2 = 1 - torch.sum((y_test_tensor - preds)**2) / torch.sum((y_test_tensor - y_test_tensor.mean())**2)\n"
   ]
  },
  {
   "cell_type": "code",
   "execution_count": 25,
   "id": "06d0e06c-20f9-4668-8dfc-59f79d6206d8",
   "metadata": {},
   "outputs": [
    {
     "name": "stdout",
     "output_type": "stream",
     "text": [
      "\n",
      "Test MSE: 0.5438\n",
      "Test MAE: 0.3873\n",
      "Test R²: 0.7925\n"
     ]
    }
   ],
   "source": [
    "print(f\"\\nTest MSE: {mse:.4f}\")\n",
    "print(f\"Test MAE: {mae:.4f}\")\n",
    "print(f\"Test R²: {r2.item():.4f}\")"
   ]
  },
  {
   "cell_type": "code",
   "execution_count": 29,
   "id": "5a4fc16e-e2fe-4337-863f-b3befe8a0ef4",
   "metadata": {},
   "outputs": [
    {
     "name": "stdout",
     "output_type": "stream",
     "text": [
      "\n",
      "Per-ion metrics on test set (weighted sample):\n",
      "Al: MAE = 0.3763, MSE = 0.1914, R² = 0.8336\n",
      "Ca: MAE = 0.2751, MSE = 0.1627, R² = 0.8683\n",
      "Cs: MAE = 0.6845, MSE = 0.5900, R² = -0.5570\n",
      "K: MAE = 0.2436, MSE = 0.0800, R² = 0.9762\n",
      "Li: MAE = 0.4058, MSE = 0.6353, R² = 0.7007\n",
      "Mg: MAE = 0.5646, MSE = 1.3085, R² = 0.6288\n",
      "Na: MAE = 0.3180, MSE = 0.1844, R² = 0.9079\n",
      "Rb: MAE = 0.1944, MSE = 0.0470, R² = 0.9709\n",
      "Y: MAE = 0.1740, MSE = 0.0490, R² = 0.8957\n",
      "Zn: MAE = 0.3501, MSE = 0.2318, R² = 0.7407\n"
     ]
    }
   ],
   "source": [
    "from sklearn.metrics import mean_absolute_error, mean_squared_error, r2_score\n",
    "# Add per-ion metrics\n",
    "X_test_df = X_test.reset_index(drop=True).copy()\n",
    "X_test_df['true'] = y_test.values\n",
    "X_test_df['pred'] = preds.cpu().numpy().flatten()\n",
    "\n",
    "print(\"\\nPer-ion metrics on test set (weighted sample):\")\n",
    "for ion in ion_columns:\n",
    "    subset = X_test_df[X_test_df[ion] == 1]\n",
    "    if not subset.empty:\n",
    "        y_true = subset['true'].values\n",
    "        y_pred = subset['pred'].values\n",
    "        mae = mean_absolute_error(y_true, y_pred)\n",
    "        mse = mean_squared_error(y_true, y_pred)\n",
    "        r2 = r2_score(y_true, y_pred)\n",
    "        print(f\"{ion.replace('working_ion_', '')}: MAE = {mae:.4f}, MSE = {mse:.4f}, R² = {r2:.4f}\")"
   ]
  },
  {
   "cell_type": "code",
   "execution_count": 27,
   "id": "27bcb497-c0a5-403e-8847-a0a20726c1a8",
   "metadata": {},
   "outputs": [
    {
     "name": "stdout",
     "output_type": "stream",
     "text": [
      "\n",
      "Per-ion MAE on test set:\n",
      "Al: MAE = 0.3763\n",
      "Ca: MAE = 0.2751\n",
      "Cs: MAE = 0.6845\n",
      "K: MAE = 0.2436\n",
      "Li: MAE = 0.4058\n",
      "Mg: MAE = 0.5646\n",
      "Na: MAE = 0.3180\n",
      "Rb: MAE = 0.1944\n",
      "Y: MAE = 0.1740\n",
      "Zn: MAE = 0.3501\n"
     ]
    }
   ],
   "source": [
    "# Reattach ion info to test set\n",
    "X_test_df = X_test.reset_index(drop=True).copy()\n",
    "X_test_df['true'] = y_test.values\n",
    "X_test_df['pred'] = preds.cpu().numpy().flatten()\n",
    "\n",
    "print(\"\\nPer-ion MAE on test set:\")\n",
    "for ion in ion_columns:\n",
    "    subset = X_test_df[X_test_df[ion] == 1]\n",
    "    if not subset.empty:\n",
    "        mae = np.mean(np.abs(subset['true'] - subset['pred']))\n",
    "        print(f\"{ion.replace('working_ion_', '')}: MAE = {mae:.4f}\")\n"
   ]
  },
  {
   "cell_type": "code",
   "execution_count": null,
   "id": "6f74be99-2715-4aed-aa47-d4b086457457",
   "metadata": {},
   "outputs": [],
   "source": []
  }
 ],
 "metadata": {
  "kernelspec": {
   "display_name": "Python 3 (ipykernel)",
   "language": "python",
   "name": "python3"
  },
  "language_info": {
   "codemirror_mode": {
    "name": "ipython",
    "version": 3
   },
   "file_extension": ".py",
   "mimetype": "text/x-python",
   "name": "python",
   "nbconvert_exporter": "python",
   "pygments_lexer": "ipython3",
   "version": "3.11.9"
  }
 },
 "nbformat": 4,
 "nbformat_minor": 5
}
