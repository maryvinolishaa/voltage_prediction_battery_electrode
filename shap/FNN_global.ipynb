{
 "cells": [
  {
   "cell_type": "markdown",
   "id": "2e847d9b-e3d7-4d6d-ad31-0c508d656607",
   "metadata": {},
   "source": [
    "## **Imports**"
   ]
  },
  {
   "cell_type": "code",
   "execution_count": 1,
   "id": "890afa64-8e00-4a7b-b514-196faf763173",
   "metadata": {},
   "outputs": [],
   "source": [
    "from sklearn.preprocessing import RobustScaler, OneHotEncoder\n",
    "from sklearn.compose import ColumnTransformer\n",
    "from sklearn.model_selection import train_test_split, KFold\n",
    "import pandas as pd\n",
    "import numpy as np\n",
    "import re\n",
    "import optuna\n",
    "import torch\n",
    "import torch.nn as nn\n",
    "import torch.optim as optim\n",
    "from torch.utils.data import DataLoader, TensorDataset\n",
    "import itertools\n",
    "import matplotlib.pyplot as plt\n",
    "from torch.nn import MSELoss\n",
    "import shap"
   ]
  },
  {
   "cell_type": "markdown",
   "id": "b18d5b58-1e2f-444e-badc-65a0c83ea7b3",
   "metadata": {},
   "source": [
    "## **Data Preprocessing**"
   ]
  },
  {
   "cell_type": "code",
   "execution_count": 2,
   "id": "398f4d29-77ed-45aa-a401-e2c69939c1d4",
   "metadata": {},
   "outputs": [],
   "source": [
    "# Load the dataset\n",
    "dataset = pd.read_csv('battery_feature_extracted.csv')"
   ]
  },
  {
   "cell_type": "code",
   "execution_count": 3,
   "id": "2ac45b37-1843-44ff-828d-28a9c70e58e9",
   "metadata": {},
   "outputs": [],
   "source": [
    "# Select features and target\n",
    "X = dataset.drop(columns=['average_voltage'])\n",
    "y = dataset['average_voltage']"
   ]
  },
  {
   "cell_type": "code",
   "execution_count": 4,
   "id": "25a54eae-6f80-438a-a0e9-04cc8fbf4904",
   "metadata": {},
   "outputs": [],
   "source": [
    "# First split to separate out the test set\n",
    "X_train, X_test, y_train, y_test = train_test_split(X, y, test_size=0.1, random_state=42)"
   ]
  },
  {
   "cell_type": "code",
   "execution_count": 5,
   "id": "c23090b4-66be-4ff8-9329-45a4ef3dea97",
   "metadata": {},
   "outputs": [],
   "source": [
    "# Second split: separate the training set into training and validation sets\n",
    "X_train, X_val, y_train, y_val = train_test_split(X_train, y_train, test_size=0.2, random_state=42)  # 20% for validation\n"
   ]
  },
  {
   "cell_type": "code",
   "execution_count": 6,
   "id": "35bf8d58-2f7f-4e8c-ba9a-a9c0b25bfe1a",
   "metadata": {},
   "outputs": [],
   "source": [
    "# Standardizing the features (fit on X_train, apply to all)\n",
    "scaler = RobustScaler()\n",
    "X_train_scaled = scaler.fit_transform(X_train)\n",
    "X_val_scaled = scaler.transform(X_val)\n",
    "X_test_scaled = scaler.transform(X_test)"
   ]
  },
  {
   "cell_type": "code",
   "execution_count": 7,
   "id": "d23061a2-478a-41ba-b7c8-f2e8dc704733",
   "metadata": {},
   "outputs": [],
   "source": [
    "# Convert to tensors\n",
    "X_train_tensor = torch.FloatTensor(X_train_scaled)\n",
    "y_train_tensor = torch.FloatTensor(y_train.values).unsqueeze(1)  # Ensure target tensor is of the right shape\n",
    "X_val_tensor = torch.FloatTensor(X_val_scaled)\n",
    "y_val_tensor = torch.FloatTensor(y_val.values).unsqueeze(1)\n",
    "X_test_tensor = torch.FloatTensor(X_test_scaled)\n",
    "y_test_tensor = torch.FloatTensor(y_test.values).unsqueeze(1)"
   ]
  },
  {
   "cell_type": "code",
   "execution_count": 8,
   "id": "f92e46a8-ba18-4957-8906-f0cea3d920cd",
   "metadata": {},
   "outputs": [],
   "source": [
    "# Model parameters\n",
    "num_features = X_train_scaled.shape[1]\n",
    "output_size = 1  # For regression, we predict a single continuous value"
   ]
  },
  {
   "cell_type": "markdown",
   "id": "e8604512-9c29-4179-ace1-af62f1512d15",
   "metadata": {},
   "source": [
    "## Transformer Model"
   ]
  },
  {
   "cell_type": "code",
   "execution_count": 9,
   "id": "963da27a-77c3-4630-a2ea-62309d9c377b",
   "metadata": {},
   "outputs": [],
   "source": [
    "class FeedForwardNN(nn.Module):\n",
    "    def __init__(self, input_size, hidden_size, output_size):\n",
    "        super(FeedForwardNN, self).__init__()\n",
    "        self.layer1 = nn.Linear(input_size, hidden_size)\n",
    "        self.activation = nn.ReLU()\n",
    "        self.layer2 = nn.Linear(hidden_size, output_size)\n",
    "        self.residual = nn.Linear(input_size, output_size)  # Residual connection\n",
    "        self.alpha = nn.Parameter(torch.tensor(0.5))  # Learnable weight for residual\n",
    "\n",
    "    def forward(self, x):\n",
    "        residual = self.residual(x)\n",
    "        x = self.layer1(x)\n",
    "        x = self.activation(x)\n",
    "        x = self.layer2(x)\n",
    "        return self.alpha * x + (1 - self.alpha) * residual  # Weighted combination"
   ]
  },
  {
   "cell_type": "code",
   "execution_count": 10,
   "id": "98a77e21-c858-410b-b972-4db9f8d2cb4f",
   "metadata": {},
   "outputs": [],
   "source": [
    "# Define the TabTransformer model with FFNN\n",
    "class TabTransformer(nn.Module):\n",
    "    def __init__(self, num_features, output_size=1, dim_embedding=64, num_heads=4, num_layers=4, ffnn_hidden_size=128):\n",
    "        super(TabTransformer, self).__init__()\n",
    "        self.embedding = nn.Linear(num_features, dim_embedding)\n",
    "        encoder_layer = nn.TransformerEncoderLayer(d_model=dim_embedding, nhead=num_heads, batch_first=True, dropout=0.70)\n",
    "        self.transformer = nn.TransformerEncoder(encoder_layer, num_layers=num_layers)\n",
    "        \n",
    "        # Replace the regression layer with a custom feed-forward neural network\n",
    "        self.ffnn = FeedForwardNN(dim_embedding, ffnn_hidden_size, output_size)\n",
    "\n",
    "    def forward(self, x):\n",
    "        x = self.embedding(x)\n",
    "        x = x.unsqueeze(1)  # Adding a sequence dimension\n",
    "        x = self.transformer(x)\n",
    "        x = x[:, 0, :]  # Select the first token (or the entire sequence can be aggregated differently)\n",
    "        x = self.ffnn(x)  # Pass through the feed-forward network\n",
    "        return x"
   ]
  },
  {
   "cell_type": "code",
   "execution_count": 11,
   "id": "1ec3ef51-3540-48dd-90ab-d194ce089d41",
   "metadata": {},
   "outputs": [],
   "source": [
    "# Initialize the model, loss, and optimizer\n",
    "model = TabTransformer(\n",
    "    num_features=num_features,  # Input feature size\n",
    "    output_size=output_size,   # Output size (1 for regression)\n",
    "    dim_embedding=128,         # Embedding dimension\n",
    "    num_heads=2,               # Number of attention heads\n",
    "    num_layers=2,              # Number of transformer layers\n",
    "    ffnn_hidden_size=128       # Hidden size for the feed-forward neural network\n",
    ").to(torch.device('cuda' if torch.cuda.is_available() else 'cpu'))\n",
    "\n",
    "class CompositeLoss(nn.Module):\n",
    "    def __init__(self):\n",
    "        super(CompositeLoss, self).__init__()\n",
    "        self.mse_loss = nn.MSELoss()\n",
    "        self.mae_loss = nn.L1Loss()\n",
    "    \n",
    "    def forward(self, outputs, targets):\n",
    "        mse = self.mse_loss(outputs, targets)\n",
    "        mae = self.mae_loss(outputs, targets)\n",
    "        return mse + 0.5 * mae  # Adjust weight as needed\n",
    "\n",
    "# Loss function: Composite Loss\n",
    "criterion = CompositeLoss()\n",
    "\n",
    "# Optimizer: Adam with a learning rate\n",
    "optimizer = optim.Adam(model.parameters(), lr=0.00075)"
   ]
  },
  {
   "cell_type": "code",
   "execution_count": 12,
   "id": "0c7509b8-9e71-46fa-977b-e11ab10cba94",
   "metadata": {},
   "outputs": [],
   "source": [
    "# Initialize lists to store losses and accuracy for plotting\n",
    "training_losses = []\n",
    "validation_losses = []"
   ]
  },
  {
   "cell_type": "code",
   "execution_count": 13,
   "id": "42d98e62-d688-4c54-ad85-80aefa256a56",
   "metadata": {},
   "outputs": [
    {
     "name": "stdout",
     "output_type": "stream",
     "text": [
      "Epoch 0, Training Loss: 14.618587493896484, Validation Loss: 3.8940839767456055\n",
      "Epoch 10, Training Loss: 4.324463367462158, Validation Loss: 7.609868049621582\n",
      "Epoch 20, Training Loss: 4.306753158569336, Validation Loss: 6.6373515129089355\n",
      "Epoch 30, Training Loss: 4.2974677085876465, Validation Loss: 6.104981422424316\n",
      "Epoch 40, Training Loss: 4.238439559936523, Validation Loss: 6.7190423011779785\n",
      "Epoch 50, Training Loss: 4.064064979553223, Validation Loss: 5.313593864440918\n",
      "Epoch 60, Training Loss: 3.6358814239501953, Validation Loss: 4.783493995666504\n",
      "Epoch 70, Training Loss: 3.2283945083618164, Validation Loss: 4.291328430175781\n",
      "Epoch 80, Training Loss: 2.9308583736419678, Validation Loss: 4.041813373565674\n",
      "Epoch 90, Training Loss: 2.670541763305664, Validation Loss: 4.066948890686035\n",
      "Epoch 100, Training Loss: 2.439173698425293, Validation Loss: 3.6372742652893066\n",
      "Epoch 110, Training Loss: 2.3264517784118652, Validation Loss: 3.1990747451782227\n",
      "Epoch 120, Training Loss: 2.1748876571655273, Validation Loss: 2.8704493045806885\n",
      "Epoch 130, Training Loss: 2.1764063835144043, Validation Loss: 3.7277469635009766\n",
      "Epoch 140, Training Loss: 2.0351903438568115, Validation Loss: 2.634793281555176\n",
      "Epoch 150, Training Loss: 1.9195351600646973, Validation Loss: 2.651409149169922\n",
      "Epoch 160, Training Loss: 1.825784683227539, Validation Loss: 2.43449068069458\n",
      "Epoch 170, Training Loss: 1.725890874862671, Validation Loss: 2.5594849586486816\n",
      "Epoch 180, Training Loss: 1.6453522443771362, Validation Loss: 2.030932664871216\n",
      "Epoch 190, Training Loss: 1.4979579448699951, Validation Loss: 2.516782522201538\n",
      "Epoch 200, Training Loss: 1.4601994752883911, Validation Loss: 2.245173215866089\n",
      "Epoch 210, Training Loss: 1.2875871658325195, Validation Loss: 1.9469622373580933\n",
      "Epoch 220, Training Loss: 1.2427105903625488, Validation Loss: 2.047757148742676\n",
      "Epoch 230, Training Loss: 1.1313186883926392, Validation Loss: 2.9272313117980957\n",
      "Epoch 240, Training Loss: 1.0368092060089111, Validation Loss: 2.7596611976623535\n",
      "Epoch 250, Training Loss: 0.9105942249298096, Validation Loss: 2.4259419441223145\n",
      "Epoch 260, Training Loss: 0.7206296324729919, Validation Loss: 2.6752781867980957\n",
      "Epoch 270, Training Loss: 0.6745563745498657, Validation Loss: 2.716221570968628\n",
      "Epoch 280, Training Loss: 0.5489503145217896, Validation Loss: 2.700913429260254\n",
      "Epoch 290, Training Loss: 0.5022085905075073, Validation Loss: 2.6604201793670654\n",
      "Epoch 300, Training Loss: 0.6172389984130859, Validation Loss: 2.2811617851257324\n",
      "Epoch 310, Training Loss: 0.47355473041534424, Validation Loss: 2.5438337326049805\n",
      "Epoch 320, Training Loss: 0.5105236768722534, Validation Loss: 2.45729660987854\n",
      "Epoch 330, Training Loss: 0.4186864495277405, Validation Loss: 2.593019962310791\n",
      "Epoch 340, Training Loss: 0.45702508091926575, Validation Loss: 2.6029391288757324\n",
      "Epoch 350, Training Loss: 0.3918282985687256, Validation Loss: 2.2260303497314453\n",
      "Epoch 360, Training Loss: 0.41302990913391113, Validation Loss: 2.1936426162719727\n",
      "Epoch 370, Training Loss: 0.4467668831348419, Validation Loss: 1.714347243309021\n",
      "Epoch 380, Training Loss: 0.3804667592048645, Validation Loss: 2.1022565364837646\n",
      "Epoch 390, Training Loss: 0.3579619824886322, Validation Loss: 1.7675340175628662\n",
      "Epoch 400, Training Loss: 0.31958574056625366, Validation Loss: 1.7539186477661133\n",
      "Epoch 410, Training Loss: 0.30990463495254517, Validation Loss: 1.5555534362792969\n",
      "Epoch 420, Training Loss: 0.29118892550468445, Validation Loss: 1.5536836385726929\n",
      "Epoch 430, Training Loss: 0.4436138868331909, Validation Loss: 1.6098891496658325\n",
      "Epoch 440, Training Loss: 0.3722313344478607, Validation Loss: 1.7578903436660767\n",
      "Epoch 450, Training Loss: 0.32892972230911255, Validation Loss: 1.5107845067977905\n",
      "Epoch 460, Training Loss: 0.3097394108772278, Validation Loss: 1.368007779121399\n",
      "Epoch 470, Training Loss: 0.3042064905166626, Validation Loss: 1.316083312034607\n",
      "Epoch 480, Training Loss: 0.3030911684036255, Validation Loss: 1.2584238052368164\n",
      "Epoch 490, Training Loss: 0.2583552300930023, Validation Loss: 1.3237711191177368\n",
      "Epoch 500, Training Loss: 0.2790055274963379, Validation Loss: 1.3544940948486328\n",
      "Epoch 510, Training Loss: 0.2769051790237427, Validation Loss: 1.4159075021743774\n",
      "Epoch 520, Training Loss: 0.24309688806533813, Validation Loss: 1.4589829444885254\n",
      "Epoch 530, Training Loss: 0.2522631883621216, Validation Loss: 1.2519557476043701\n",
      "Epoch 540, Training Loss: 0.22074469923973083, Validation Loss: 1.2401487827301025\n",
      "Epoch 550, Training Loss: 0.20669692754745483, Validation Loss: 1.1350785493850708\n",
      "Epoch 560, Training Loss: 0.22035518288612366, Validation Loss: 1.1874806880950928\n",
      "Epoch 570, Training Loss: 0.20512209832668304, Validation Loss: 1.0564277172088623\n",
      "Epoch 580, Training Loss: 0.21817705035209656, Validation Loss: 1.1028889417648315\n",
      "Epoch 590, Training Loss: 0.207543283700943, Validation Loss: 1.0137741565704346\n",
      "Epoch 600, Training Loss: 0.20893964171409607, Validation Loss: 1.2444206476211548\n",
      "Epoch 610, Training Loss: 0.18293236196041107, Validation Loss: 1.1151968240737915\n",
      "Epoch 620, Training Loss: 0.18538524210453033, Validation Loss: 1.2162060737609863\n",
      "Epoch 630, Training Loss: 0.21682271361351013, Validation Loss: 1.199255347251892\n",
      "Epoch 640, Training Loss: 0.16917595267295837, Validation Loss: 1.1397359371185303\n",
      "Epoch 650, Training Loss: 0.15350663661956787, Validation Loss: 1.095444679260254\n",
      "Epoch 660, Training Loss: 0.15713569521903992, Validation Loss: 1.0701587200164795\n",
      "Epoch 670, Training Loss: 0.15985643863677979, Validation Loss: 1.1582789421081543\n",
      "Epoch 680, Training Loss: 0.15913042426109314, Validation Loss: 1.063119888305664\n",
      "Epoch 690, Training Loss: 0.14707159996032715, Validation Loss: 0.9767459034919739\n",
      "Epoch 700, Training Loss: 0.15312394499778748, Validation Loss: 0.9775921106338501\n",
      "Epoch 710, Training Loss: 0.1423081010580063, Validation Loss: 1.0155876874923706\n",
      "Epoch 720, Training Loss: 0.16729706525802612, Validation Loss: 1.017561435699463\n",
      "Epoch 730, Training Loss: 0.19575200974941254, Validation Loss: 1.0252069234848022\n",
      "Epoch 740, Training Loss: 0.16024041175842285, Validation Loss: 0.9677389860153198\n",
      "Epoch 750, Training Loss: 0.14863212406635284, Validation Loss: 0.9781633615493774\n",
      "Epoch 760, Training Loss: 0.1369892656803131, Validation Loss: 1.032753348350525\n",
      "Epoch 770, Training Loss: 0.12489120662212372, Validation Loss: 0.9361777305603027\n",
      "Epoch 780, Training Loss: 0.12842991948127747, Validation Loss: 1.053216814994812\n",
      "Epoch 790, Training Loss: 0.12011963874101639, Validation Loss: 0.9899294376373291\n",
      "Epoch 800, Training Loss: 0.12095792591571808, Validation Loss: 0.9419671893119812\n",
      "Epoch 810, Training Loss: 0.12565842270851135, Validation Loss: 0.9814624786376953\n",
      "Epoch 820, Training Loss: 0.13466022908687592, Validation Loss: 1.034236192703247\n",
      "Epoch 830, Training Loss: 0.10584162920713425, Validation Loss: 1.0286813974380493\n",
      "Epoch 840, Training Loss: 0.11429151892662048, Validation Loss: 0.9902777671813965\n",
      "Epoch 850, Training Loss: 0.11223205924034119, Validation Loss: 0.9039698243141174\n",
      "Epoch 860, Training Loss: 0.10791899263858795, Validation Loss: 0.8756829500198364\n",
      "Epoch 870, Training Loss: 0.11307921260595322, Validation Loss: 0.8431035280227661\n",
      "Epoch 880, Training Loss: 0.12864349782466888, Validation Loss: 0.8405802845954895\n",
      "Epoch 890, Training Loss: 0.12157498300075531, Validation Loss: 0.9550834894180298\n",
      "Epoch 900, Training Loss: 0.12099432945251465, Validation Loss: 0.8541445732116699\n",
      "Epoch 910, Training Loss: 0.12478601932525635, Validation Loss: 0.9594623446464539\n",
      "Epoch 920, Training Loss: 0.12281772494316101, Validation Loss: 0.9767686724662781\n",
      "Epoch 930, Training Loss: 0.098578542470932, Validation Loss: 0.9221857190132141\n",
      "Epoch 940, Training Loss: 0.11532653868198395, Validation Loss: 0.9663179516792297\n",
      "Epoch 950, Training Loss: 0.09181094169616699, Validation Loss: 0.8818228840827942\n",
      "Epoch 960, Training Loss: 0.09988047182559967, Validation Loss: 0.8452208042144775\n",
      "Epoch 970, Training Loss: 0.1339498907327652, Validation Loss: 0.8632179498672485\n",
      "Epoch 980, Training Loss: 0.0842481404542923, Validation Loss: 0.8282486796379089\n",
      "Epoch 990, Training Loss: 0.0928773358464241, Validation Loss: 0.8279705047607422\n",
      "Epoch 1000, Training Loss: 0.0934775173664093, Validation Loss: 0.8486619591712952\n",
      "Epoch 1010, Training Loss: 0.09821382164955139, Validation Loss: 0.8771199584007263\n",
      "Epoch 1020, Training Loss: 0.1066165566444397, Validation Loss: 1.0091990232467651\n",
      "Epoch 1030, Training Loss: 0.11825419962406158, Validation Loss: 0.8335144519805908\n",
      "Epoch 1040, Training Loss: 0.08164647966623306, Validation Loss: 0.7993027567863464\n",
      "Epoch 1050, Training Loss: 0.09833894670009613, Validation Loss: 0.8528008460998535\n",
      "Epoch 1060, Training Loss: 0.08919606357812881, Validation Loss: 0.8625656366348267\n",
      "Epoch 1070, Training Loss: 0.07557934522628784, Validation Loss: 0.858809232711792\n",
      "Epoch 1080, Training Loss: 0.0815759003162384, Validation Loss: 0.8355221152305603\n",
      "Epoch 1090, Training Loss: 0.08131830394268036, Validation Loss: 0.7927765846252441\n",
      "Epoch 1100, Training Loss: 0.08014951646327972, Validation Loss: 0.8895478248596191\n",
      "Epoch 1110, Training Loss: 0.08897533267736435, Validation Loss: 0.7981470227241516\n",
      "Epoch 1120, Training Loss: 0.08972936868667603, Validation Loss: 0.7493616342544556\n",
      "Epoch 1130, Training Loss: 0.07055115699768066, Validation Loss: 0.8143246173858643\n",
      "Epoch 1140, Training Loss: 0.06926324963569641, Validation Loss: 0.7846482992172241\n",
      "Epoch 1150, Training Loss: 0.06660463660955429, Validation Loss: 0.7824933528900146\n",
      "Epoch 1160, Training Loss: 0.0647829994559288, Validation Loss: 0.787937581539154\n",
      "Epoch 1170, Training Loss: 0.07065597176551819, Validation Loss: 0.7966842651367188\n",
      "Epoch 1180, Training Loss: 0.07325005531311035, Validation Loss: 0.7574161291122437\n",
      "Epoch 1190, Training Loss: 0.068306565284729, Validation Loss: 0.795220136642456\n",
      "Epoch 1200, Training Loss: 0.07840566337108612, Validation Loss: 0.8150642514228821\n",
      "Epoch 1210, Training Loss: 0.08897094428539276, Validation Loss: 0.7625975012779236\n",
      "Epoch 1220, Training Loss: 0.07221245765686035, Validation Loss: 0.8051422834396362\n",
      "Epoch 1230, Training Loss: 0.056849025189876556, Validation Loss: 0.8023308515548706\n",
      "Epoch 1240, Training Loss: 0.07691022753715515, Validation Loss: 0.7411145567893982\n",
      "Epoch 1250, Training Loss: 0.06398443132638931, Validation Loss: 0.7760294079780579\n",
      "Epoch 1260, Training Loss: 0.06995310634374619, Validation Loss: 0.8016848564147949\n",
      "Epoch 1270, Training Loss: 0.0605970174074173, Validation Loss: 0.7737407684326172\n",
      "Epoch 1280, Training Loss: 0.06001601740717888, Validation Loss: 0.789408802986145\n",
      "Epoch 1290, Training Loss: 0.0549367293715477, Validation Loss: 0.7291196584701538\n",
      "Epoch 1300, Training Loss: 0.053034551441669464, Validation Loss: 0.7250913381576538\n",
      "Epoch 1310, Training Loss: 0.058274172246456146, Validation Loss: 0.7589199542999268\n",
      "Epoch 1320, Training Loss: 0.07867123931646347, Validation Loss: 0.7544276118278503\n",
      "Epoch 1330, Training Loss: 0.0557161420583725, Validation Loss: 0.7579692006111145\n",
      "Epoch 1340, Training Loss: 0.048827823251485825, Validation Loss: 0.7122585773468018\n",
      "Epoch 1350, Training Loss: 0.07003190368413925, Validation Loss: 0.6974647045135498\n",
      "Epoch 1360, Training Loss: 0.05830711871385574, Validation Loss: 0.7279804944992065\n",
      "Epoch 1370, Training Loss: 0.07089107483625412, Validation Loss: 0.6650574207305908\n",
      "Epoch 1380, Training Loss: 0.0465969517827034, Validation Loss: 0.7298800349235535\n",
      "Epoch 1390, Training Loss: 0.062220629304647446, Validation Loss: 0.7210464477539062\n",
      "Epoch 1400, Training Loss: 0.04797343164682388, Validation Loss: 0.7065398693084717\n",
      "Epoch 1410, Training Loss: 0.05695710331201553, Validation Loss: 0.827595055103302\n",
      "Epoch 1420, Training Loss: 0.04661444574594498, Validation Loss: 0.7371194362640381\n",
      "Epoch 1430, Training Loss: 0.04544207826256752, Validation Loss: 0.7135908603668213\n",
      "Epoch 1440, Training Loss: 0.05796734243631363, Validation Loss: 0.7078365087509155\n",
      "Epoch 1450, Training Loss: 0.05248105153441429, Validation Loss: 0.7351385951042175\n",
      "Epoch 1460, Training Loss: 0.050427794456481934, Validation Loss: 0.7341010570526123\n",
      "Epoch 1470, Training Loss: 0.04456062987446785, Validation Loss: 0.6969646215438843\n",
      "Epoch 1480, Training Loss: 0.0513131245970726, Validation Loss: 0.7020111083984375\n",
      "Epoch 1490, Training Loss: 0.050010062754154205, Validation Loss: 0.6945326924324036\n",
      "Epoch 1500, Training Loss: 0.0553172305226326, Validation Loss: 0.6791896224021912\n",
      "Epoch 1510, Training Loss: 0.0515613779425621, Validation Loss: 0.6784631013870239\n",
      "Epoch 1520, Training Loss: 0.05235792696475983, Validation Loss: 0.7234507203102112\n",
      "Epoch 1530, Training Loss: 0.059030257165431976, Validation Loss: 0.6919378638267517\n",
      "Epoch 1540, Training Loss: 0.05173163115978241, Validation Loss: 0.6969118714332581\n",
      "Epoch 1550, Training Loss: 0.04330848157405853, Validation Loss: 0.6535049676895142\n",
      "Epoch 1560, Training Loss: 0.05734144151210785, Validation Loss: 0.635552167892456\n",
      "Epoch 1570, Training Loss: 0.0443030446767807, Validation Loss: 0.6721010804176331\n",
      "Epoch 1580, Training Loss: 0.04524346441030502, Validation Loss: 0.6489335298538208\n",
      "Epoch 1590, Training Loss: 0.05043696239590645, Validation Loss: 0.6759873628616333\n",
      "Epoch 1600, Training Loss: 0.041259076446294785, Validation Loss: 0.6403922438621521\n",
      "Epoch 1610, Training Loss: 0.03954627737402916, Validation Loss: 0.6435909271240234\n",
      "Epoch 1620, Training Loss: 0.039922092109918594, Validation Loss: 0.673689603805542\n",
      "Epoch 1630, Training Loss: 0.05544855445623398, Validation Loss: 0.6606867909431458\n",
      "Epoch 1640, Training Loss: 0.04587548226118088, Validation Loss: 0.6515170931816101\n",
      "Epoch 1650, Training Loss: 0.041721656918525696, Validation Loss: 0.6646823287010193\n",
      "Epoch 1660, Training Loss: 0.038339488208293915, Validation Loss: 0.6358228921890259\n",
      "Epoch 1670, Training Loss: 0.04061174392700195, Validation Loss: 0.641386091709137\n",
      "Epoch 1680, Training Loss: 0.04493822902441025, Validation Loss: 0.6647953987121582\n",
      "Epoch 1690, Training Loss: 0.044697243720293045, Validation Loss: 0.6511174440383911\n",
      "Epoch 1700, Training Loss: 0.04029112681746483, Validation Loss: 0.703111469745636\n",
      "Epoch 1710, Training Loss: 0.05501078441739082, Validation Loss: 0.6766191124916077\n",
      "Epoch 1720, Training Loss: 0.03635847195982933, Validation Loss: 0.6755977272987366\n",
      "Epoch 1730, Training Loss: 0.04800604283809662, Validation Loss: 0.6717230081558228\n",
      "Epoch 1740, Training Loss: 0.04079124331474304, Validation Loss: 0.6336157321929932\n",
      "Epoch 1750, Training Loss: 0.044519562274217606, Validation Loss: 0.6265943050384521\n",
      "Epoch 1760, Training Loss: 0.042122818529605865, Validation Loss: 0.6372460722923279\n",
      "Epoch 1770, Training Loss: 0.05781277269124985, Validation Loss: 0.6925839185714722\n",
      "Epoch 1780, Training Loss: 0.052709683775901794, Validation Loss: 0.6664242744445801\n",
      "Epoch 1790, Training Loss: 0.03616294264793396, Validation Loss: 0.6828484535217285\n",
      "Epoch 1800, Training Loss: 0.047185268253088, Validation Loss: 0.6759644150733948\n",
      "Epoch 1810, Training Loss: 0.03629906848073006, Validation Loss: 0.6752132177352905\n",
      "Epoch 1820, Training Loss: 0.032532915472984314, Validation Loss: 0.6776326894760132\n",
      "Epoch 1830, Training Loss: 0.031223975121974945, Validation Loss: 0.6872502565383911\n",
      "Epoch 1840, Training Loss: 0.03354145586490631, Validation Loss: 0.6540663242340088\n",
      "Epoch 1850, Training Loss: 0.042567454278469086, Validation Loss: 0.6790463924407959\n",
      "Epoch 1860, Training Loss: 0.03765548765659332, Validation Loss: 0.6817805767059326\n",
      "Epoch 1870, Training Loss: 0.0453856997191906, Validation Loss: 0.6859857439994812\n",
      "Epoch 1880, Training Loss: 0.03768207132816315, Validation Loss: 0.6680837869644165\n",
      "Epoch 1890, Training Loss: 0.03474408760666847, Validation Loss: 0.6558486223220825\n",
      "Epoch 1900, Training Loss: 0.04381965473294258, Validation Loss: 0.6850497126579285\n",
      "Epoch 1910, Training Loss: 0.03074900060892105, Validation Loss: 0.701671302318573\n",
      "Epoch 1920, Training Loss: 0.04194548726081848, Validation Loss: 0.7099601626396179\n",
      "Epoch 1930, Training Loss: 0.050245799124240875, Validation Loss: 0.6521310210227966\n",
      "Epoch 1940, Training Loss: 0.027117302641272545, Validation Loss: 0.6712546348571777\n",
      "Epoch 1950, Training Loss: 0.046396464109420776, Validation Loss: 0.705523669719696\n",
      "Epoch 1960, Training Loss: 0.03635949268937111, Validation Loss: 0.679791271686554\n",
      "Epoch 1970, Training Loss: 0.03653547540307045, Validation Loss: 0.6515470743179321\n",
      "Epoch 1980, Training Loss: 0.041363030672073364, Validation Loss: 0.6740469336509705\n",
      "Epoch 1990, Training Loss: 0.029065275564789772, Validation Loss: 0.6864864230155945\n"
     ]
    }
   ],
   "source": [
    "# Training loop with validation\n",
    "for epoch in range(2000):\n",
    "    # Training phase\n",
    "    model.train()\n",
    "    optimizer.zero_grad()\n",
    "    output = model(X_train_tensor)\n",
    "    train_loss = criterion(output, y_train_tensor)\n",
    "    train_loss.backward()\n",
    "    optimizer.step()\n",
    "\n",
    "    # Validation phase\n",
    "    model.eval()\n",
    "    with torch.no_grad():\n",
    "        val_output = model(X_val_tensor)\n",
    "        val_loss = criterion(val_output, y_val_tensor)\n",
    "\n",
    "    # Store the losses for plotting\n",
    "    training_losses.append(train_loss.item())\n",
    "    validation_losses.append(val_loss.item())\n",
    "\n",
    "    # Print training and validation loss every 10 epochs\n",
    "    if epoch % 10 == 0:\n",
    "        print(f'Epoch {epoch}, Training Loss: {train_loss.item()}, Validation Loss: {val_loss.item()}')\n",
    "\n"
   ]
  },
  {
   "cell_type": "markdown",
   "id": "227c9b00-1b0a-4d3d-86d3-8150255ae8cc",
   "metadata": {},
   "source": [
    "**SHAP**"
   ]
  },
  {
   "cell_type": "code",
   "execution_count": 16,
   "id": "9318fd8c-39a7-4fd5-847b-d56359ac5f12",
   "metadata": {},
   "outputs": [],
   "source": [
    "# Set device and move model\n",
    "device = torch.device('cuda' if torch.cuda.is_available() else 'cpu')\n",
    "model = model.to(device)\n",
    "model.device = device  # Attach for SHAP compatibility"
   ]
  },
  {
   "cell_type": "code",
   "execution_count": 17,
   "id": "5310c95c-cd3f-4596-b1ee-cc0c2be89372",
   "metadata": {},
   "outputs": [],
   "source": [
    "# Move data to CPU and convert to numpy\n",
    "X_train_np = X_train_tensor.cpu().detach().numpy()\n",
    "X_test_np = X_test_tensor.cpu().detach().numpy()"
   ]
  },
  {
   "cell_type": "code",
   "execution_count": 18,
   "id": "11747430-6638-448f-9923-e5638826767c",
   "metadata": {},
   "outputs": [],
   "source": [
    "# Sample background and test data\n",
    "background = X_train_np[np.random.choice(X_train_np.shape[0], 100, replace=False)]\n",
    "X_sample = X_test_np[:200]"
   ]
  },
  {
   "cell_type": "code",
   "execution_count": 19,
   "id": "6513f5d9-ff47-40a9-a33d-b0f854f95f45",
   "metadata": {},
   "outputs": [],
   "source": [
    "# Define a wrapper for the PyTorch model that outputs numpy\n",
    "def wrapped_model(x_numpy):\n",
    "    x_tensor = torch.tensor(x_numpy, dtype=torch.float32).to(model.device)\n",
    "    with torch.no_grad():\n",
    "        preds = model(x_tensor).cpu().numpy()\n",
    "    return preds\n"
   ]
  },
  {
   "cell_type": "code",
   "execution_count": 20,
   "id": "478675d6-e42e-4177-9c0d-2e074863826b",
   "metadata": {},
   "outputs": [],
   "source": [
    "# Create SHAP explainer\n",
    "#explainer = shap.Explainer(wrapped_model, background)\n",
    "#explainer = shap.Explainer(wrapped_model, background, algorithm=\"permutation\")\n",
    "explainer = shap.KernelExplainer(wrapped_model, background)"
   ]
  },
  {
   "cell_type": "code",
   "execution_count": 21,
   "id": "ef181caf-041e-4c67-a6e1-9928301d9df6",
   "metadata": {},
   "outputs": [
    {
     "data": {
      "application/vnd.jupyter.widget-view+json": {
       "model_id": "b4b620273b6344f7b52b16da776da768",
       "version_major": 2,
       "version_minor": 0
      },
      "text/plain": [
       "  0%|          | 0/200 [00:00<?, ?it/s]"
      ]
     },
     "metadata": {},
     "output_type": "display_data"
    }
   ],
   "source": [
    "# Compute SHAP values\n",
    "shap_values = explainer(X_sample)"
   ]
  },
  {
   "cell_type": "code",
   "execution_count": 22,
   "id": "262110bf-1e90-4ac2-888a-b333d9049711",
   "metadata": {},
   "outputs": [],
   "source": [
    "# Set feature names if available\n",
    "shap_values.feature_names = X.columns.tolist()  # If X is a DataFrame with column names"
   ]
  },
  {
   "cell_type": "code",
   "execution_count": 36,
   "id": "e9f406b3-15a1-4228-bcc2-8233dcd80a85",
   "metadata": {},
   "outputs": [
    {
     "name": "stdout",
     "output_type": "stream",
     "text": [
      "\n",
      "Top 20 Features:\n",
      "energy_grav: 1.084198\n",
      "capacity_grav: 0.841393\n",
      "formula_discharge_O: 0.132886\n",
      "formula_charge_O: 0.123371\n",
      "formula_discharge_Li: 0.062191\n",
      "working_ion_Li: 0.056406\n",
      "formula_discharge_P: 0.025130\n",
      "working_ion_Zn: 0.023484\n",
      "site18_magmom: 0.018819\n",
      "formula_discharge_V: 0.017544\n",
      "site36_c: 0.016705\n",
      "site37_y: 0.016446\n",
      "site38_c: 0.015720\n",
      "formula_discharge_Zn: 0.015652\n",
      "formula_discharge_Na: 0.015352\n",
      "formula_charge_P: 0.015218\n",
      "site75_z: 0.014393\n",
      "working_ion_Na: 0.012709\n",
      "formula_charge_Mn: 0.012630\n",
      "formula_charge_F: 0.012373\n"
     ]
    },
    {
     "data": {
      "image/png": "[encoded data removed]",
      "text/plain": [
       "<Figure size 1000x600 with 1 Axes>"
      ]
     },
     "metadata": {},
     "output_type": "display_data"
    }
   ],
   "source": [
    "# 1. Extract SHAP values properly\n",
    "shap_array = shap_values.values  # shape: (200, 3226, 1)\n",
    "\n",
    "# Flatten the last dimension\n",
    "shap_array = shap_array.squeeze(-1)  # now shape = (200, 3226)\n",
    "\n",
    "# 2. Mean absolute SHAP per feature\n",
    "mean_abs_shap = np.abs(shap_array).mean(axis=0)  # shape = (3226,)\n",
    "\n",
    "# 3. Get top 20 features\n",
    "top_indices = np.argsort(mean_abs_shap)[-20:][::-1]\n",
    "top_features = [shap_values.feature_names[i] for i in top_indices]\n",
    "top_shap_values = mean_abs_shap[top_indices]\n",
    "\n",
    "# 4. Print top features and values\n",
    "print(\"\\nTop 20 Features:\")\n",
    "for name, val in zip(top_features, top_shap_values):\n",
    "    print(f\"{name}: {val:.6f}\")\n",
    "\n",
    "# 5. Plot\n",
    "plt.figure(figsize=(10, 6))\n",
    "plt.barh(top_features, top_shap_values)\n",
    "plt.xlabel(\"Mean |SHAP value|\")\n",
    "plt.title(\"Top 20 Important Features\")\n",
    "plt.gca().invert_yaxis()\n",
    "plt.tight_layout()\n",
    "plt.grid(True)\n",
    "plt.show()"
   ]
  },
  {
   "cell_type": "code",
   "execution_count": null,
   "id": "dc7529ed-d813-49df-9f58-2fe61410b7ae",
   "metadata": {},
   "outputs": [],
   "source": []
  }
 ],
 "metadata": {
  "kernelspec": {
   "display_name": "Python 3 (ipykernel)",
   "language": "python",
   "name": "python3"
  },
  "language_info": {
   "codemirror_mode": {
    "name": "ipython",
    "version": 3
   },
   "file_extension": ".py",
   "mimetype": "text/x-python",
   "name": "python",
   "nbconvert_exporter": "python",
   "pygments_lexer": "ipython3",
   "version": "3.11.9"
  }
 },
 "nbformat": 4,
 "nbformat_minor": 5
}
