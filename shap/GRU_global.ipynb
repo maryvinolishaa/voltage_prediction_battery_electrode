{
 "cells": [
  {
   "cell_type": "markdown",
   "id": "2e847d9b-e3d7-4d6d-ad31-0c508d656607",
   "metadata": {},
   "source": [
    "## **Imports**"
   ]
  },
  {
   "cell_type": "code",
   "execution_count": 21,
   "id": "890afa64-8e00-4a7b-b514-196faf763173",
   "metadata": {},
   "outputs": [],
   "source": [
    "from sklearn.preprocessing import RobustScaler, OneHotEncoder, StandardScaler, MinMaxScaler\n",
    "from sklearn.compose import ColumnTransformer\n",
    "from sklearn.model_selection import train_test_split, KFold\n",
    "import pandas as pd\n",
    "import numpy as np\n",
    "import re\n",
    "import optuna\n",
    "import torch\n",
    "import torch.nn as nn\n",
    "import torch.optim as optim\n",
    "from torch.utils.data import DataLoader, TensorDataset\n",
    "import itertools\n",
    "import matplotlib.pyplot as plt\n",
    "from torch.nn import MSELoss\n",
    "import shap"
   ]
  },
  {
   "cell_type": "markdown",
   "id": "b18d5b58-1e2f-444e-badc-65a0c83ea7b3",
   "metadata": {},
   "source": [
    "## **Data Preprocessing**"
   ]
  },
  {
   "cell_type": "code",
   "execution_count": 2,
   "id": "398f4d29-77ed-45aa-a401-e2c69939c1d4",
   "metadata": {},
   "outputs": [],
   "source": [
    "# Load the dataset\n",
    "dataset = pd.read_csv('battery_feature_extracted.csv')"
   ]
  },
  {
   "cell_type": "code",
   "execution_count": 3,
   "id": "2ac45b37-1843-44ff-828d-28a9c70e58e9",
   "metadata": {},
   "outputs": [],
   "source": [
    "# Select features and target\n",
    "X = dataset.drop(columns=['average_voltage'])\n",
    "y = dataset['average_voltage']"
   ]
  },
  {
   "cell_type": "code",
   "execution_count": 4,
   "id": "25a54eae-6f80-438a-a0e9-04cc8fbf4904",
   "metadata": {},
   "outputs": [],
   "source": [
    "# First split to separate out the test set\n",
    "X_train, X_test, y_train, y_test = train_test_split(X, y, test_size=0.1, random_state=42)"
   ]
  },
  {
   "cell_type": "code",
   "execution_count": 5,
   "id": "c23090b4-66be-4ff8-9329-45a4ef3dea97",
   "metadata": {},
   "outputs": [],
   "source": [
    "# Second split: separate the training set into training and validation sets\n",
    "X_train, X_val, y_train, y_val = train_test_split(X_train, y_train, test_size=0.2, random_state=42)  # 20% for validation\n"
   ]
  },
  {
   "cell_type": "code",
   "execution_count": 6,
   "id": "35bf8d58-2f7f-4e8c-ba9a-a9c0b25bfe1a",
   "metadata": {},
   "outputs": [],
   "source": [
    "# Standardizing the features (fit on X_train, apply to all)\n",
    "scaler = RobustScaler()\n",
    "#scaler = StandardScaler()\n",
    "#scaler = MinMaxScaler()\n",
    "X_train_scaled = scaler.fit_transform(X_train)\n",
    "X_val_scaled = scaler.transform(X_val)\n",
    "X_test_scaled = scaler.transform(X_test)"
   ]
  },
  {
   "cell_type": "code",
   "execution_count": 7,
   "id": "d23061a2-478a-41ba-b7c8-f2e8dc704733",
   "metadata": {},
   "outputs": [],
   "source": [
    "# Convert to tensors\n",
    "X_train_tensor = torch.FloatTensor(X_train_scaled)\n",
    "y_train_tensor = torch.FloatTensor(y_train.values).unsqueeze(1)  # Ensure target tensor is of the right shape\n",
    "X_val_tensor = torch.FloatTensor(X_val_scaled)\n",
    "y_val_tensor = torch.FloatTensor(y_val.values).unsqueeze(1)\n",
    "X_test_tensor = torch.FloatTensor(X_test_scaled)\n",
    "y_test_tensor = torch.FloatTensor(y_test.values).unsqueeze(1)"
   ]
  },
  {
   "cell_type": "code",
   "execution_count": 8,
   "id": "f92e46a8-ba18-4957-8906-f0cea3d920cd",
   "metadata": {},
   "outputs": [],
   "source": [
    "# Model parameters\n",
    "num_features = X_train_scaled.shape[1]\n",
    "output_size = 1  # For regression, we predict a single continuous value"
   ]
  },
  {
   "cell_type": "markdown",
   "id": "c0d035ef-adf3-49e2-97a3-f7d5592b0580",
   "metadata": {},
   "source": [
    "# **Load saved model**"
   ]
  },
  {
   "cell_type": "code",
   "execution_count": 10,
   "id": "2a0383a1-c48c-4f6f-a105-47ed363b53dd",
   "metadata": {},
   "outputs": [],
   "source": [
    "# GRU-based submodule\n",
    "class GRUNetwork(nn.Module):\n",
    "    def __init__(self, input_size, hidden_size, output_size, num_layers=1, dropout=0.5):\n",
    "        super(GRUNetwork, self).__init__()\n",
    "        self.gru = nn.GRU(input_size, hidden_size, num_layers=num_layers, batch_first=True, dropout=dropout)\n",
    "        self.fc = nn.Linear(hidden_size, output_size)\n",
    "\n",
    "    def forward(self, x):\n",
    "        _, h_n = self.gru(x)\n",
    "        h_n = h_n[-1]  # Take final hidden state\n",
    "        return self.fc(h_n)"
   ]
  },
  {
   "cell_type": "code",
   "execution_count": 11,
   "id": "c25188ae-bdbc-4631-966a-afb54b8f986e",
   "metadata": {},
   "outputs": [],
   "source": [
    "# TabTransformer with GRU\n",
    "class TabTransformerWithGRU(nn.Module):\n",
    "    def __init__(self, num_features, output_size=1, dim_embedding=128, num_heads=2, num_layers=2, gru_hidden_size=128, gru_num_layers=1, gru_dropout=0.5):\n",
    "        super(TabTransformerWithGRU, self).__init__()\n",
    "        self.embedding = nn.Linear(num_features, dim_embedding)\n",
    "        encoder_layer = nn.TransformerEncoderLayer(\n",
    "            d_model=dim_embedding,\n",
    "            nhead=num_heads,\n",
    "            dropout=0.2,\n",
    "            batch_first=True\n",
    "        )\n",
    "        self.transformer = nn.TransformerEncoder(encoder_layer, num_layers=num_layers)\n",
    "        self.gru_network = GRUNetwork(\n",
    "            input_size=dim_embedding,\n",
    "            hidden_size=gru_hidden_size,\n",
    "            output_size=output_size,\n",
    "            num_layers=gru_num_layers,\n",
    "            dropout=gru_dropout\n",
    "        )\n",
    "\n",
    "    def forward(self, x):\n",
    "        x = self.embedding(x)\n",
    "        x = x.unsqueeze(1)  # Add sequence dimension\n",
    "        x = self.transformer(x)\n",
    "        return self.gru_network(x)"
   ]
  },
  {
   "cell_type": "code",
   "execution_count": 12,
   "id": "980b14b9-dd1c-4ee3-80f6-6b0f85839d5e",
   "metadata": {},
   "outputs": [
    {
     "name": "stderr",
     "output_type": "stream",
     "text": [
      "C:\\Users\\Admin\\AppData\\Local\\Packages\\PythonSoftwareFoundation.Python.3.11_qbz5n2kfra8p0\\LocalCache\\local-packages\\Python311\\site-packages\\torch\\nn\\modules\\rnn.py:123: UserWarning: dropout option adds dropout after all but last recurrent layer, so non-zero dropout expects num_layers greater than 1, but got dropout=0.5 and num_layers=1\n",
      "  warnings.warn(\n",
      "C:\\Users\\Admin\\AppData\\Local\\Temp\\ipykernel_3520\\3009371891.py:6: FutureWarning: You are using `torch.load` with `weights_only=False` (the current default value), which uses the default pickle module implicitly. It is possible to construct malicious pickle data which will execute arbitrary code during unpickling (See https://github.com/pytorch/pytorch/blob/main/SECURITY.md#untrusted-models for more details). In a future release, the default value for `weights_only` will be flipped to `True`. This limits the functions that could be executed during unpickling. Arbitrary objects will no longer be allowed to be loaded via this mode unless they are explicitly allowlisted by the user via `torch.serialization.add_safe_globals`. We recommend you start setting `weights_only=True` for any use case where you don't have full control of the loaded file. Please open an issue on GitHub for any issues related to this experimental feature.\n",
      "  model.load_state_dict(torch.load('entire_model_transformer_rnn_gru_mae2765_mse2943_r28877.pth', map_location=device))\n"
     ]
    },
    {
     "data": {
      "text/plain": [
       "TabTransformerWithGRU(\n",
       "  (embedding): Linear(in_features=3226, out_features=128, bias=True)\n",
       "  (transformer): TransformerEncoder(\n",
       "    (layers): ModuleList(\n",
       "      (0-1): 2 x TransformerEncoderLayer(\n",
       "        (self_attn): MultiheadAttention(\n",
       "          (out_proj): NonDynamicallyQuantizableLinear(in_features=128, out_features=128, bias=True)\n",
       "        )\n",
       "        (linear1): Linear(in_features=128, out_features=2048, bias=True)\n",
       "        (dropout): Dropout(p=0.2, inplace=False)\n",
       "        (linear2): Linear(in_features=2048, out_features=128, bias=True)\n",
       "        (norm1): LayerNorm((128,), eps=1e-05, elementwise_affine=True)\n",
       "        (norm2): LayerNorm((128,), eps=1e-05, elementwise_affine=True)\n",
       "        (dropout1): Dropout(p=0.2, inplace=False)\n",
       "        (dropout2): Dropout(p=0.2, inplace=False)\n",
       "      )\n",
       "    )\n",
       "  )\n",
       "  (gru_network): GRUNetwork(\n",
       "    (gru): GRU(128, 128, batch_first=True, dropout=0.5)\n",
       "    (fc): Linear(in_features=128, out_features=1, bias=True)\n",
       "  )\n",
       ")"
      ]
     },
     "execution_count": 12,
     "metadata": {},
     "output_type": "execute_result"
    }
   ],
   "source": [
    "# Define model and move to appropriate device\n",
    "device = torch.device('cuda' if torch.cuda.is_available() else 'cpu')\n",
    "model = TabTransformerWithGRU(num_features=X_train.shape[1]).to(device)\n",
    "\n",
    "# Load saved weights\n",
    "model.load_state_dict(torch.load('entire_model_transformer_rnn_gru_mae2765_mse2943_r28877.pth', map_location=device))\n",
    "model.eval()\n"
   ]
  },
  {
   "cell_type": "code",
   "execution_count": 13,
   "id": "28cb8a5c-d667-4015-82ba-5ada73b2f00e",
   "metadata": {},
   "outputs": [],
   "source": [
    "with torch.no_grad():\n",
    "    predictions = model(X_test_tensor.to(device))\n",
    "    test_mse = nn.MSELoss()(predictions, y_test_tensor.to(device))\n",
    "    test_mae = nn.L1Loss()(predictions, y_test_tensor.to(device))\n",
    "    ss_total = torch.sum((y_test_tensor - torch.mean(y_test_tensor))**2)\n",
    "    ss_residual = torch.sum((y_test_tensor - predictions.cpu())**2)\n",
    "    r2_score = 1 - (ss_residual / ss_total)"
   ]
  },
  {
   "cell_type": "code",
   "execution_count": 14,
   "id": "e2dfad14-3bde-4a2e-8029-5544eb5b998f",
   "metadata": {},
   "outputs": [
    {
     "name": "stdout",
     "output_type": "stream",
     "text": [
      "Test MSE: 0.2943\n",
      "Test MAE: 0.2765\n",
      "Test R²: 0.8877\n"
     ]
    }
   ],
   "source": [
    "print(f\"Test MSE: {test_mse.item():.4f}\")\n",
    "print(f\"Test MAE: {test_mae.item():.4f}\")\n",
    "print(f\"Test R²: {r2_score.item():.4f}\")"
   ]
  },
  {
   "cell_type": "code",
   "execution_count": null,
   "id": "a6890010-fceb-459c-a972-89e7f1614d1c",
   "metadata": {},
   "outputs": [],
   "source": []
  },
  {
   "cell_type": "markdown",
   "id": "4b00213c-0436-4256-b014-44c754f560ad",
   "metadata": {},
   "source": [
    "## **SHAP**"
   ]
  },
  {
   "cell_type": "code",
   "execution_count": 15,
   "id": "115cc116-72a8-4106-8d54-0539aa7d9552",
   "metadata": {},
   "outputs": [
    {
     "data": {
      "text/plain": [
       "TabTransformerWithGRU(\n",
       "  (embedding): Linear(in_features=3226, out_features=128, bias=True)\n",
       "  (transformer): TransformerEncoder(\n",
       "    (layers): ModuleList(\n",
       "      (0-1): 2 x TransformerEncoderLayer(\n",
       "        (self_attn): MultiheadAttention(\n",
       "          (out_proj): NonDynamicallyQuantizableLinear(in_features=128, out_features=128, bias=True)\n",
       "        )\n",
       "        (linear1): Linear(in_features=128, out_features=2048, bias=True)\n",
       "        (dropout): Dropout(p=0.2, inplace=False)\n",
       "        (linear2): Linear(in_features=2048, out_features=128, bias=True)\n",
       "        (norm1): LayerNorm((128,), eps=1e-05, elementwise_affine=True)\n",
       "        (norm2): LayerNorm((128,), eps=1e-05, elementwise_affine=True)\n",
       "        (dropout1): Dropout(p=0.2, inplace=False)\n",
       "        (dropout2): Dropout(p=0.2, inplace=False)\n",
       "      )\n",
       "    )\n",
       "  )\n",
       "  (gru_network): GRUNetwork(\n",
       "    (gru): GRU(128, 128, batch_first=True, dropout=0.5)\n",
       "    (fc): Linear(in_features=128, out_features=1, bias=True)\n",
       "  )\n",
       ")"
      ]
     },
     "execution_count": 15,
     "metadata": {},
     "output_type": "execute_result"
    }
   ],
   "source": [
    "# Initialize model and set to CPU\n",
    "device = torch.device(\"cpu\")\n",
    "model = TabTransformerWithGRU(num_features=X_train_scaled.shape[1]).to(device)\n",
    "model.eval()"
   ]
  },
  {
   "cell_type": "code",
   "execution_count": 16,
   "id": "bdadbcad-1f0c-4b8d-b84f-2425170adadf",
   "metadata": {},
   "outputs": [],
   "source": [
    "# Dummy forward for SHAP\n",
    "def wrapped_model(x_numpy):\n",
    "    x_tensor = torch.tensor(x_numpy, dtype=torch.float32).to(device)\n",
    "    with torch.no_grad():\n",
    "        return model(x_tensor).cpu().numpy()"
   ]
  },
  {
   "cell_type": "code",
   "execution_count": 18,
   "id": "e34fa1b4-c2f6-41bb-9992-ee834cac5021",
   "metadata": {},
   "outputs": [],
   "source": [
    "# Step 3: Prepare SHAP data\n",
    "X_train_np = X_train_tensor.cpu().numpy()\n",
    "X_test_np = X_test_tensor.cpu().numpy()"
   ]
  },
  {
   "cell_type": "code",
   "execution_count": 19,
   "id": "339bef9e-78ad-43bc-af0b-8c9e1cc1b93d",
   "metadata": {},
   "outputs": [],
   "source": [
    "# SHAP background and sample\n",
    "# Select background and sample input\n",
    "background = X_train_np[np.random.choice(X_train_np.shape[0], 100, replace=False)]\n",
    "X_sample = X_test_np[:50]  # Keep small for speed"
   ]
  },
  {
   "cell_type": "code",
   "execution_count": 22,
   "id": "cebe4b7b-2f93-4fab-b986-baf306202792",
   "metadata": {},
   "outputs": [
    {
     "data": {
      "application/vnd.jupyter.widget-view+json": {
       "model_id": "e8363875fed545be9141ffb73e841123",
       "version_major": 2,
       "version_minor": 0
      },
      "text/plain": [
       "  0%|          | 0/50 [00:00<?, ?it/s]"
      ]
     },
     "metadata": {},
     "output_type": "display_data"
    }
   ],
   "source": [
    "# KernelExplainer\n",
    "explainer = shap.KernelExplainer(wrapped_model, background)\n",
    "shap_values = explainer.shap_values(X_sample)"
   ]
  },
  {
   "cell_type": "code",
   "execution_count": 25,
   "id": "69fa06f7-23e0-408d-8716-a4edfe903382",
   "metadata": {},
   "outputs": [],
   "source": [
    "#Feature importance summary\n",
    "mean_abs_shap = np.abs(shap_values).mean(axis=0).flatten()  # Ensure 1D\n",
    "top_indices = np.argsort(mean_abs_shap)[-20:][::-1]\n",
    "feature_names = X.columns.tolist()\n",
    "top_features = [feature_names[i] for i in top_indices]\n",
    "top_shap_values = mean_abs_shap[top_indices]"
   ]
  },
  {
   "cell_type": "code",
   "execution_count": 26,
   "id": "ad15d1a2-7cbf-49f2-913c-eb941a37fba4",
   "metadata": {},
   "outputs": [
    {
     "data": {
      "image/png": "[encoded data removed]",
      "text/plain": [
       "<Figure size 1000x600 with 1 Axes>"
      ]
     },
     "metadata": {},
     "output_type": "display_data"
    }
   ],
   "source": [
    "#Plot\n",
    "plt.figure(figsize=(10, 6))\n",
    "plt.barh(top_features, top_shap_values)\n",
    "plt.xlabel(\"Mean |SHAP value|\")\n",
    "plt.title(\"Top 20 Important Features\")\n",
    "plt.gca().invert_yaxis()\n",
    "plt.grid(True)\n",
    "plt.tight_layout()\n",
    "plt.show()"
   ]
  },
  {
   "cell_type": "code",
   "execution_count": null,
   "id": "b9d1223a-c11d-48fa-b035-11a180ba6575",
   "metadata": {},
   "outputs": [],
   "source": []
  }
 ],
 "metadata": {
  "kernelspec": {
   "display_name": "Python 3 (ipykernel)",
   "language": "python",
   "name": "python3"
  },
  "language_info": {
   "codemirror_mode": {
    "name": "ipython",
    "version": 3
   },
   "file_extension": ".py",
   "mimetype": "text/x-python",
   "name": "python",
   "nbconvert_exporter": "python",
   "pygments_lexer": "ipython3",
   "version": "3.11.9"
  }
 },
 "nbformat": 4,
 "nbformat_minor": 5
}
